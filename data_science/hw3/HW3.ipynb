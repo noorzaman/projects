{
 "metadata": {
  "name": ""
 },
 "nbformat": 3,
 "nbformat_minor": 0,
 "worksheets": [
  {
   "cells": [
    {
     "cell_type": "markdown",
     "metadata": {},
     "source": [
      "# Homework 3. Bayesian Tomatoes"
     ]
    },
    {
     "cell_type": "markdown",
     "metadata": {},
     "source": [
      "Due Thursday, October 17, 11:59pm"
     ]
    },
    {
     "cell_type": "markdown",
     "metadata": {},
     "source": [
      "<div class=\"banner-container\">\n",
      "<img src=\"http://content7.flixster.com/movie/11/16/81/11168101_det.jpg\" width=180>\n",
      "</div>\n",
      "\n",
      "<div class=\"banner-container\">\n",
      "<img src=\"http://content6.flixster.com/movie/11/15/15/11151508_det.jpg\" width=180>\n",
      "</div>\n",
      "\n",
      "<div class=\"banner-container\">\n",
      "<img src=\"http://content9.flixster.com/movie/11/16/61/11166199_det.jpg\" width=180>\n",
      "</div>\n",
      "\n",
      "<div class=\"clear\"> </div>\n",
      "\n",
      "<style type=\"text/css\">\n",
      ".banner-container {\n",
      "height:350px;\n",
      "margin-left: 30px;\n",
      "float:left;\n",
      "}\n",
      ".clear {\n",
      "clear:both;\n",
      "}\n",
      "</style>"
     ]
    },
    {
     "cell_type": "markdown",
     "metadata": {},
     "source": [
      "In this assignment, you'll be analyzing movie reviews from [Rotten Tomatoes](http://www.rottentomatoes.com). This assignment will cover:\n",
      "\n",
      " * Working with web APIs\n",
      " * Making and interpreting predictions from a Bayesian perspective\n",
      " * Using the Naive Bayes algorithm to predict whether a movie review is positive or negative\n",
      " * Using cross validation to optimize models\n",
      "\n",
      "Useful libraries for this assignment\n",
      "\n",
      "* [numpy](http://docs.scipy.org/doc/numpy-dev/user/index.html), for arrays\n",
      "* [scikit-learn](http://scikit-learn.org/stable/), for machine learning\n",
      "* [json](http://docs.python.org/2/library/json.html) for parsing JSON data from the web.\n",
      "* [pandas](http://pandas.pydata.org/), for data frames\n",
      "* [matplotlib](http://matplotlib.org/), for plotting\n",
      "* [requests](http://docs.python-requests.org/en/latest/), for downloading web content"
     ]
    },
    {
     "cell_type": "code",
     "collapsed": false,
     "input": [
      "%matplotlib inline\n",
      "\n",
      "import json\n",
      "\n",
      "import requests\n",
      "import pandas as pd\n",
      "import numpy as np\n",
      "import matplotlib.pyplot as plt\n",
      "\n",
      "pd.set_option('display.width', 500)\n",
      "pd.set_option('display.max_columns', 30)\n",
      "\n",
      "# set some nicer defaults for matplotlib\n",
      "from matplotlib import rcParams\n",
      "\n",
      "#these colors come from colorbrewer2.org. Each is an RGB triplet\n",
      "dark2_colors = [(0.10588235294117647, 0.6196078431372549, 0.4666666666666667),\n",
      "                (0.8509803921568627, 0.37254901960784315, 0.00784313725490196),\n",
      "                (0.4588235294117647, 0.4392156862745098, 0.7019607843137254),\n",
      "                (0.9058823529411765, 0.1607843137254902, 0.5411764705882353),\n",
      "                (0.4, 0.6509803921568628, 0.11764705882352941),\n",
      "                (0.9019607843137255, 0.6705882352941176, 0.00784313725490196),\n",
      "                (0.6509803921568628, 0.4627450980392157, 0.11372549019607843),\n",
      "                (0.4, 0.4, 0.4)]\n",
      "\n",
      "rcParams['figure.figsize'] = (10, 6)\n",
      "rcParams['figure.dpi'] = 150\n",
      "rcParams['axes.color_cycle'] = dark2_colors\n",
      "rcParams['lines.linewidth'] = 2\n",
      "rcParams['axes.grid'] = False\n",
      "rcParams['axes.facecolor'] = 'white'\n",
      "rcParams['font.size'] = 14\n",
      "rcParams['patch.edgecolor'] = 'none'\n",
      "\n",
      "\n",
      "def remove_border(axes=None, top=False, right=False, left=True, bottom=True):\n",
      "    \"\"\"\n",
      "    Minimize chartjunk by stripping out unnecessary plot borders and axis ticks\n",
      "    \n",
      "    The top/right/left/bottom keywords toggle whether the corresponding plot border is drawn\n",
      "    \"\"\"\n",
      "    ax = axes or plt.gca()\n",
      "    ax.spines['top'].set_visible(top)\n",
      "    ax.spines['right'].set_visible(right)\n",
      "    ax.spines['left'].set_visible(left)\n",
      "    ax.spines['bottom'].set_visible(bottom)\n",
      "    \n",
      "    #turn off all ticks\n",
      "    ax.yaxis.set_ticks_position('none')\n",
      "    ax.xaxis.set_ticks_position('none')\n",
      "    \n",
      "    #now re-enable visibles\n",
      "    if top:\n",
      "        ax.xaxis.tick_top()\n",
      "    if bottom:\n",
      "        ax.xaxis.tick_bottom()\n",
      "    if left:\n",
      "        ax.yaxis.tick_left()\n",
      "    if right:\n",
      "        ax.yaxis.tick_right()"
     ],
     "language": "python",
     "metadata": {},
     "outputs": [],
     "prompt_number": 1
    },
    {
     "cell_type": "markdown",
     "metadata": {},
     "source": [
      "## Introduction\n",
      "\n",
      "Rotten Tomatoes gathers movie reviews from critics. An [entry on the website](http://www.rottentomatoes.com/m/primer/reviews/?type=top_critics) typically consists of a short quote, a link to the full review, and a Fresh/Rotten classification which summarizes whether the critic liked/disliked the movie.\n",
      "\n",
      "\n",
      "When critics give quantitative ratings (say 3/4 stars, Thumbs up, etc.), determining the Fresh/Rotten classification is easy. However, publications like the New York Times don't assign numerical ratings to movies, and thus the Fresh/Rotten classification must be inferred from the text of the review itself.\n",
      "\n",
      "This basic task of categorizing text has many applications. All of the following questions boil down to text classification:\n",
      "\n",
      " * Is a movie review positive or negative?\n",
      " * Is an email spam, or not?\n",
      " * Is a comment on a blog discussion board appropriate, or not?\n",
      " * Is a tweet about your company positive, or not?\n",
      " \n",
      "\n",
      "Language is incredibly nuanced, and there is an entire field of computer science dedicated to the topic (Natural Language Processing). Nevertheless, we can construct basic language models using fairly straightforward techniques. \n",
      "\n",
      "## The Data\n",
      "\n",
      "You will be starting with a database of Movies, derived from the MovieLens dataset. This dataset includes information for about 10,000 movies, including the IMDB id for each movie. \n",
      "\n",
      "Your first task is to download Rotten Tomatoes reviews from 3000 of these movies, using the Rotten Tomatoes API (Application Programming Interface)."
     ]
    },
    {
     "cell_type": "markdown",
     "metadata": {},
     "source": [
      "### Working with Web APIs\n",
      "Web APIs are a more convenient way for programs to interact with websites. Rotten Tomatoes has a nice API that gives access to its data in JSON format.\n",
      "\n",
      "To use this, you will first need to [register for an API key](http://developer.rottentomatoes.com/member/register). For \"application URL\", you can use anything -- it doesn't matter.\n",
      "\n",
      "After you have a key, the [documentation page](http://developer.rottentomatoes.com/iodocs) shows the various data you can fetch from Rotten Tomatoes -- each type of data lives at a different web address. The basic pattern for fetching this data with Python is as follows (compare this to the `Movie Reviews` tab on the documentation page):"
     ]
    },
    {
     "cell_type": "code",
     "collapsed": false,
     "input": [
      "#***** SETUP MY GLOBAL VARIABLES *****\n",
      "#\n",
      "LOCAL = True\n",
      "TESTING = True\n",
      "#\n",
      "#*************************************\n",
      "\n",
      "api_key = '5b868chuy5yytxvdqk23553v'\n",
      "movie_id = '770672122'  # toy story 3\n",
      "url = 'http://api.rottentomatoes.com/api/public/v1.0/movies/%s/reviews.json' % movie_id\n",
      "\n",
      "#these are \"get parameters\"\n",
      "options = {'review_type': 'top_critic', 'page_limit': 20, 'page': 1, 'apikey': api_key}\n",
      "data = requests.get(url, params=options).text\n",
      "data = json.loads(data)  # load a json string into a collection of lists and dicts\n",
      "\n",
      "print json.dumps(data['reviews'][0], indent=2)  # dump an object into a json string"
     ],
     "language": "python",
     "metadata": {},
     "outputs": [
      {
       "output_type": "stream",
       "stream": "stdout",
       "text": [
        "{\n",
        "  \"publication\": \"Village Voice\", \n",
        "  \"links\": {\n",
        "    \"review\": \"http://www.villagevoice.com/2010-06-15/film/toys-are-us-in-toy-story-3/full/\"\n",
        "  }, \n",
        "  \"quote\": \"When teenaged Andy plops down on the grass to share his old toys with a shy little girl, the film spikes with sadness and layered pleasure -- a concise, deeply wise expression of the ephemeral that feels real and yet utterly transporting.\", \n",
        "  \"freshness\": \"fresh\", \n",
        "  \"critic\": \"Eric Hynes\", \n",
        "  \"date\": \"2013-08-04\"\n",
        "}\n"
       ]
      }
     ],
     "prompt_number": 2
    },
    {
     "cell_type": "markdown",
     "metadata": {},
     "source": [
      "## Part 1: Get the data\n",
      "Here's a chunk of the MovieLens Dataset:"
     ]
    },
    {
     "cell_type": "code",
     "collapsed": false,
     "input": [
      "from io import StringIO  \n",
      "movie_txt = requests.get('https://raw.github.com/cs109/cs109_data/master/movies.dat').text\n",
      "movie_file = StringIO(movie_txt) # treat a string like a file\n",
      "movies = pd.read_csv(movie_file, delimiter='\\t')\n",
      "\n",
      "#print the first row\n",
      "movies[['id', 'title', 'imdbID', 'year']].irow(0)"
     ],
     "language": "python",
     "metadata": {},
     "outputs": [
      {
       "metadata": {},
       "output_type": "pyout",
       "prompt_number": 3,
       "text": [
        "id                1\n",
        "title     Toy story\n",
        "imdbID       114709\n",
        "year           1995\n",
        "Name: 0, dtype: object"
       ]
      }
     ],
     "prompt_number": 3
    },
    {
     "cell_type": "markdown",
     "metadata": {},
     "source": [
      "#### P1.1\n",
      "\n",
      "We'd like you to write a function that looks up the first 20 Top Critic Rotten Tomatoes reviews for a movie in the `movies` dataframe. This involves two steps:\n",
      "\n",
      "1. Use the `Movie Alias` API to look up the Rotten Tomatoes movie id from the IMDB id\n",
      "1. Use the `Movie Reviews` API to fetch the first 20 top-critic reviews for this movie\n",
      "\n",
      "Not all movies have Rotten Tomatoes IDs. In these cases, your function should return `None`. The detailed spec is below. We are giving you some freedom with how you implement this, but you'll probably want to break this task up into several small functions.\n",
      "\n",
      "**Hint**\n",
      "In some situations, the leading 0s in front of IMDB ids are important. IMDB ids have 7 digits"
     ]
    },
    {
     "cell_type": "code",
     "collapsed": true,
     "input": [
      "\"\"\"\n",
      "Function\n",
      "--------\n",
      "fetch_reviews(movies, row)\n",
      "\n",
      "Use the Rotten Tomatoes web API to fetch reviews for a particular movie\n",
      "\n",
      "Parameters\n",
      "----------\n",
      "movies : DataFrame \n",
      "  The movies data above\n",
      "row : int\n",
      "  The row of the movies DataFrame to use\n",
      "  \n",
      "Returns\n",
      "-------\n",
      "If you can match the IMDB id to a Rotten Tomatoes ID:\n",
      "  A DataFrame, containing the first 20 Top Critic reviews \n",
      "  for the movie. If a movie has less than 20 total reviews, return them all.\n",
      "  This should have the following columns:\n",
      "    critic : Name of the critic\n",
      "    fresh  : 'fresh' or 'rotten'\n",
      "    imdb   : IMDB id for the movie\n",
      "    publication: Publication that the critic writes for\n",
      "    quote  : string containing the movie review quote\n",
      "    review_data: Date of review\n",
      "    rtid   : Rotten Tomatoes ID for the movie\n",
      "    title  : Name of the movie\n",
      "    \n",
      "If you cannot match the IMDB id to a Rotten Tomatoes ID, return None\n",
      "\n",
      "Examples\n",
      "--------\n",
      ">>> reviews = fetch_reviews(movies, 0)\n",
      ">>> print len(reviews)\n",
      "20\n",
      ">>> print reviews.irow(1)\n",
      "critic                                               Derek Adams\n",
      "fresh                                                      fresh\n",
      "imdb                                                      114709\n",
      "publication                                             Time Out\n",
      "quote          So ingenious in concept, design and execution ...\n",
      "review_date                                           2009-10-04\n",
      "rtid                                                        9559\n",
      "title                                                  Toy story\n",
      "Name: 1, dtype: object\n",
      "\"\"\"\n",
      "#your code here\n",
      "\n",
      "######\n",
      "#\n",
      "# Two helper methods are defined in addition to main fetch_reviews method\n",
      "# - lookup_by_alias() looks up the rotten tomato id given imdb id\n",
      "# - fetch_first_20_reviews() returns the top critics first 20 reviews\n",
      "# \n",
      "# finally\n",
      "# fetch_reviews() uses the above helpers to construct a dataframe with the reviews\n",
      "#\n",
      "#####\n",
      "\n",
      "\n",
      "\n",
      "# use Movie Alias API to look up Rotten Tomatoes movie id from the IMDB id\n",
      "def lookup_by_alias(imdb_id):\n",
      "    url = 'http://api.rottentomatoes.com/api/public/v1.0/movie_alias.json?apikey=%s&type=imdb&id=%s' %(api_key,imdb_id)\n",
      "    try:\n",
      "        data = requests.get(url).text\n",
      "        if \"error\" in data:\n",
      "            raise ValueError(\"Receiving error from the server\")\n",
      "    except Exception:\n",
      "        return None\n",
      "    data = json.loads(data)  # load a json string into a collection of lists and dicts\n",
      "    return data\n",
      "\n",
      "\n",
      "\n",
      "# use Movie Reviews API to fetch first 20 top-critic reviews for this movie\n",
      "def fetch_first20_reviews(movie_id):\n",
      "    url = 'http://api.rottentomatoes.com/api/public/v1.0/movies/%s/reviews.json' % movie_id\n",
      "    options = {'review_type': 'top_critic', 'page_limit': 20, 'page': 1, 'apikey': api_key}\n",
      "    data = requests.get(url, params=options).text\n",
      "    data = json.loads(data)  # load a json string into a collection of lists and dicts\n",
      "    return data\n",
      "\n",
      "\n",
      "# construct a dataframe for this movie with the first 20 reviews\n",
      "def fetch_reviews(movies, row):\n",
      "\n",
      "    # set up the data frame to return from this method\n",
      "    # the col sequence is slightly different than described in the example but i think\n",
      "    # it looks (or just feels) better to keep the idenfying ids and title as first columns\n",
      "    cols = ['rtid', 'imdb', 'title', 'critic', 'fresh', 'publication', 'quote', 'review_date']  \n",
      "    result_df = pd.DataFrame(columns=cols)\n",
      "    \n",
      "    # set up a new row to insert in the dataframe\n",
      "    res_dict = {}\n",
      "    \n",
      "    # get data from movies data frame using the row id\n",
      "    (movie_imdb_id, movie_title) = movies[['imdbID', 'title']].irow(row)\n",
      "    \n",
      "    # construct a zero padded imdb_id\n",
      "    movie_imdb_id = str(movie_imdb_id)\n",
      "    movie_imdb_id = movie_imdb_id.zfill(7)\n",
      "    \n",
      "    try:\n",
      "        #first lookup rotten tomatoes id using imdb id\n",
      "        alias_info = lookup_by_alias(movie_imdb_id)\n",
      "        movie_rt_id = alias_info[\"id\"]\n",
      "    except:\n",
      "        return result_df\n",
      "    \n",
      "    \n",
      "    # set movies data frame data in the dict\n",
      "    res_dict['rtid'] = movie_rt_id\n",
      "    res_dict['imdb'] = movie_imdb_id\n",
      "    res_dict['title'] = movie_title\n",
      "    \n",
      "    try:\n",
      "        #get data from the reviews\n",
      "        json_data = fetch_first20_reviews(movie_rt_id)\n",
      "        #json_str = json.dumps(data['reviews'][0], indent=2)\n",
      "        reviews = json_data[\"reviews\"]\n",
      "    except:\n",
      "        return result_df\n",
      "\n",
      "\n",
      "    # for each movie set the first 20 reviews\n",
      "    # we should only be getting 20 reviews anyways since our request page limit is 20\n",
      "    for i, review in enumerate(reviews):\n",
      "        res_dict['critic'] = review[\"critic\"]    \n",
      "        res_dict['fresh'] = review[\"freshness\"]\n",
      "        res_dict['publication'] = review[\"publication\"]    \n",
      "        res_dict['quote'] = review[\"quote\"]\n",
      "        res_dict['review_date'] = review[\"date\"]\n",
      "        \n",
      "\n",
      "        val = pd.Series(res_dict.values(), index=res_dict.keys())\n",
      "        result_df = result_df.append(val, ignore_index=True)\n",
      "        if i > 19: #should not happen - we have 20 reviews per page\n",
      "            return result_df \n",
      "    #result_df = to_datetime(result_df.review_date)\n",
      "        \n",
      "    return result_df\n",
      "    \n",
      "    \n",
      "    \n",
      "\n",
      "########### TESTING ##########\n",
      "\n",
      "def test_lookup_by_alias():\n",
      "    #alias_id = '0113041' #father of the bride\n",
      "    alias_id = '0031381' # -gone with the wind\n",
      "    #alias_id = '-99' #negative test\n",
      "    #alias_id = 'what_is_that' #negative test\n",
      "    \n",
      "    test_data = lookup_by_alias(alias_id)    \n",
      "    if not test_data: #returns None on error\n",
      "        print \"error\"\n",
      "    else:\n",
      "        print test_data[\"id\"] #9818\n",
      "\n",
      "\n",
      "def test_fetch_first20_reviews():\n",
      "    test_movie_id = '770672122'  # toy story 3\n",
      "    test_json_data = fetch_first20_reviews(test_movie_id)\n",
      "    test_reviews = test_json_data[\"reviews\"]\n",
      "    #print reviews\n",
      "    if len(test_reviews) == 0:\n",
      "        print \"Error -> did not get any reviews\"\n",
      "    print \"Number of reviews: \", len(test_reviews)\n",
      "    print test_reviews[0]\n",
      "    print test_reviews[-1]      \n",
      "\n",
      "\n",
      "def test_fetch_reviews_single():\n",
      "    test_reviews = fetch_reviews(movies, 0)\n",
      "    print len(test_reviews)\n",
      "    print test_reviews.irow(1)\n",
      "\n",
      "\n",
      "def test_fetch_reviews():\n",
      "    test_df = fetch_reviews(movies, 20)\n",
      "    if test_df.empty:\n",
      "        print \"error\"\n",
      "    else:\n",
      "        print test_df.head()\n",
      "    \n",
      "    \n",
      "if TESTING: #run your tests\n",
      "    pass\n",
      "    #test_lookup_by_alias()\n",
      "    #test_fetch_first20_reviews()\n",
      "    test_fetch_reviews_single()\n",
      "    #test_fetch_reviews()\n"
     ],
     "language": "python",
     "metadata": {},
     "outputs": [
      {
       "output_type": "stream",
       "stream": "stdout",
       "text": [
        "20\n",
        "rtid                                                        9559\n",
        "imdb                                                     0114709\n",
        "title                                                  Toy story\n",
        "critic                                               Derek Adams\n",
        "fresh                                                      fresh\n",
        "publication                                             Time Out\n",
        "quote          So ingenious in concept, design and execution ...\n",
        "review_date                                           2009-10-04\n",
        "Name: 1, dtype: object\n"
       ]
      }
     ],
     "prompt_number": 4
    },
    {
     "cell_type": "markdown",
     "metadata": {},
     "source": [
      "#### P1.2\n",
      "\n",
      "Use the function you wrote to retrieve reviews for the first 3,000 movies in the movies dataframe.\n",
      "\n",
      "##### Hints\n",
      "* Rotten Tomatoes limits you to **10,000 API requests a day**. Be careful about this limit! Test your code on smaller inputs before scaling. You are responsible if you hit the limit the day the assignment is due :)\n",
      "* This will take a while to download. If you don't want to re-run this function every time you restart the notebook, you can save and re-load this data as a CSV file. However, please don't submit this file"
     ]
    },
    {
     "cell_type": "code",
     "collapsed": false,
     "input": [
      "\"\"\"\n",
      "Function\n",
      "--------\n",
      "build_table\n",
      "\n",
      "Parameters\n",
      "----------\n",
      "movies : DataFrame\n",
      "  The movies data above\n",
      "rows : int\n",
      "  The number of rows to extract reviews for\n",
      "  \n",
      "Returns\n",
      "--------\n",
      "A dataframe\n",
      "  The data obtained by repeatedly calling `fetch_reviews` on the first `rows`\n",
      "  of `movies`, discarding the `None`s,\n",
      "  and concatenating the results into a single DataFrame\n",
      "\"\"\"\n",
      "#your code here\n",
      "def build_table(movies, rows):\n",
      "    # set up the data frame to return from this method\n",
      "    cols = ['rtid', 'imdb', 'title', 'critic', 'fresh', 'publication', 'quote', 'review_date']  \n",
      "    result_df = pd.DataFrame(columns=cols)\n",
      "    \n",
      "    dfs = []\n",
      "    #the logic discards the rows that have None and does not increase the counter for failure\n",
      "    #this allows us to substitute the next successful get in place of the failed one\n",
      "    for i in range(rows):\n",
      "        df = fetch_reviews(movies, i)\n",
      "        if not df.empty:\n",
      "            result_df = result_df.append(df, ignore_index=True)\n",
      "            #concatenated = pd.concat(df, ignore_index=True)\n",
      "    return result_df            \n",
      "\n",
      "\n",
      "if TESTING:\n",
      "    pass\n",
      "    test_critics = build_table(movies, 3)\n",
      "    print test_critics.head()\n",
      "    #print test_critics\n",
      "    "
     ],
     "language": "python",
     "metadata": {},
     "outputs": [
      {
       "output_type": "stream",
       "stream": "stdout",
       "text": [
        "   rtid     imdb      title           critic  fresh           publication                                              quote review_date\n",
        "0  9559  0114709  Toy story  Owen Gleiberman  fresh  Entertainment Weekly                                                     2011-09-07\n",
        "1  9559  0114709  Toy story      Derek Adams  fresh              Time Out  So ingenious in concept, design and execution ...  2009-10-04\n",
        "2  9559  0114709  Toy story  Richard Corliss  fresh         TIME Magazine                  The year's most inventive comedy.  2008-08-31\n",
        "3  9559  0114709  Toy story      David Ansen  fresh              Newsweek  A winning animated feature that has something ...  2008-08-18\n",
        "4  9559  0114709  Toy story    Leonard Klady  fresh               Variety  The film sports a provocative and appealing st...  2008-06-09\n"
       ]
      }
     ],
     "prompt_number": 5
    },
    {
     "cell_type": "code",
     "collapsed": false,
     "input": [
      "#you can toggle which lines are commented, if you\n",
      "#want to re-load your results to avoid repeatedly calling this function\n",
      "\n",
      "###critics = nx_build_table(movies, 3000)\n",
      "#critics.to_csv('critics.csv', index=False)\n",
      "#critics = pd.read_csv('critics.csv')\n",
      "\n",
      "#critics = build_table(movies, 3000)\n",
      "#critics.to_csv('critics.csv', index=False)\n",
      "critics = pd.read_csv('critics.csv')\n",
      "\n",
      "#for this assignment, let's drop rows with missing data\n",
      "critics = critics[~critics.quote.isnull()]\n",
      "critics = critics[critics.fresh != 'none']\n",
      "critics = critics[critics.quote.str.len() > 0]\n",
      "critics.head()"
     ],
     "language": "python",
     "metadata": {},
     "outputs": [
      {
       "html": [
        "<div style=\"max-height:1000px;max-width:1500px;overflow:auto;\">\n",
        "<table border=\"1\" class=\"dataframe\">\n",
        "  <thead>\n",
        "    <tr style=\"text-align: right;\">\n",
        "      <th></th>\n",
        "      <th>rtid</th>\n",
        "      <th>imdb</th>\n",
        "      <th>title</th>\n",
        "      <th>critic</th>\n",
        "      <th>fresh</th>\n",
        "      <th>publication</th>\n",
        "      <th>quote</th>\n",
        "      <th>review_date</th>\n",
        "    </tr>\n",
        "  </thead>\n",
        "  <tbody>\n",
        "    <tr>\n",
        "      <th>1</th>\n",
        "      <td> 9559</td>\n",
        "      <td> 114709</td>\n",
        "      <td> Toy story</td>\n",
        "      <td>        Derek Adams</td>\n",
        "      <td> fresh</td>\n",
        "      <td>       Time Out</td>\n",
        "      <td> So ingenious in concept, design and execution ...</td>\n",
        "      <td> 2009-10-04</td>\n",
        "    </tr>\n",
        "    <tr>\n",
        "      <th>2</th>\n",
        "      <td> 9559</td>\n",
        "      <td> 114709</td>\n",
        "      <td> Toy story</td>\n",
        "      <td>    Richard Corliss</td>\n",
        "      <td> fresh</td>\n",
        "      <td>  TIME Magazine</td>\n",
        "      <td>                 The year's most inventive comedy.</td>\n",
        "      <td> 2008-08-31</td>\n",
        "    </tr>\n",
        "    <tr>\n",
        "      <th>3</th>\n",
        "      <td> 9559</td>\n",
        "      <td> 114709</td>\n",
        "      <td> Toy story</td>\n",
        "      <td>        David Ansen</td>\n",
        "      <td> fresh</td>\n",
        "      <td>       Newsweek</td>\n",
        "      <td> A winning animated feature that has something ...</td>\n",
        "      <td> 2008-08-18</td>\n",
        "    </tr>\n",
        "    <tr>\n",
        "      <th>4</th>\n",
        "      <td> 9559</td>\n",
        "      <td> 114709</td>\n",
        "      <td> Toy story</td>\n",
        "      <td>      Leonard Klady</td>\n",
        "      <td> fresh</td>\n",
        "      <td>        Variety</td>\n",
        "      <td> The film sports a provocative and appealing st...</td>\n",
        "      <td> 2008-06-09</td>\n",
        "    </tr>\n",
        "    <tr>\n",
        "      <th>5</th>\n",
        "      <td> 9559</td>\n",
        "      <td> 114709</td>\n",
        "      <td> Toy story</td>\n",
        "      <td> Jonathan Rosenbaum</td>\n",
        "      <td> fresh</td>\n",
        "      <td> Chicago Reader</td>\n",
        "      <td> An entertaining computer-generated, hyperreali...</td>\n",
        "      <td> 2008-03-10</td>\n",
        "    </tr>\n",
        "  </tbody>\n",
        "</table>\n",
        "</div>"
       ],
       "metadata": {},
       "output_type": "pyout",
       "prompt_number": 6,
       "text": [
        "   rtid    imdb      title              critic  fresh     publication                                              quote review_date\n",
        "1  9559  114709  Toy story         Derek Adams  fresh        Time Out  So ingenious in concept, design and execution ...  2009-10-04\n",
        "2  9559  114709  Toy story     Richard Corliss  fresh   TIME Magazine                  The year's most inventive comedy.  2008-08-31\n",
        "3  9559  114709  Toy story         David Ansen  fresh        Newsweek  A winning animated feature that has something ...  2008-08-18\n",
        "4  9559  114709  Toy story       Leonard Klady  fresh         Variety  The film sports a provocative and appealing st...  2008-06-09\n",
        "5  9559  114709  Toy story  Jonathan Rosenbaum  fresh  Chicago Reader  An entertaining computer-generated, hyperreali...  2008-03-10"
       ]
      }
     ],
     "prompt_number": 6
    },
    {
     "cell_type": "markdown",
     "metadata": {},
     "source": [
      "A quick sanity check that everything looks ok at this point"
     ]
    },
    {
     "cell_type": "code",
     "collapsed": false,
     "input": [
      "assert set(critics.columns) == set('critic fresh imdb publication '\n",
      "                                   'quote review_date rtid title'.split())\n",
      "assert len(critics) > 10000"
     ],
     "language": "python",
     "metadata": {},
     "outputs": [],
     "prompt_number": 7
    },
    {
     "cell_type": "markdown",
     "metadata": {},
     "source": [
      "## Part 2: Explore\n",
      "\n",
      "Before delving into analysis, get a sense of what these data look like. Answer the following questions. Include your code!"
     ]
    },
    {
     "cell_type": "markdown",
     "metadata": {},
     "source": [
      "**2.1** How many reviews, critics, and movies are in this dataset?\n"
     ]
    },
    {
     "cell_type": "code",
     "collapsed": false,
     "input": [
      "#your code here\n",
      "#\n",
      "# Normally, the reviews should not be duplicated \n",
      "# Is it possible that two different reviewers have exactly the same review\n",
      "# And not that the reviews are a piece of literature but would that be plagiarism ?\n",
      "#\n",
      "# After manual review, it seems like the same author is mentioned twice or more for \n",
      "# some movies \n",
      "# But the number of dupes is low (696) - so we can probably live with it.\n",
      "#\n",
      "def get_aggregated_count():\n",
      "    aggregated = {}\n",
      "    \n",
      "    #get unique counts for reviews, critics and movies\n",
      "    #believe it or not, we have duplicate reviews !\n",
      "    aggregated['unique_reviews'] = len(critics.quote.unique())\n",
      "    aggregated['unique_critics'] = len(critics.critic.unique())\n",
      "    aggregated['unique_movies'] = len(critics.title.unique())\n",
      "\n",
      "    #for comparison purposes also return the total number of counts\n",
      "    #should be the same for all\n",
      "    aggregated['reviews'] = len(critics.quote)\n",
      "    aggregated['critics'] = len(critics.critic)\n",
      "    aggregated['movies'] = len(critics.title)\n",
      "    \n",
      "    #aggregated['publications'] = len(critics.publication)\n",
      "    \n",
      "    return aggregated\n",
      "\n",
      "def check_duplicate_reviews():\n",
      "    critics_dup = critics[critics.duplicated('quote')]\n",
      "    critics_dup = critics_dup.sort(['quote'])\n",
      "    return critics_dup\n",
      "\n",
      "\n",
      "def print_aggregated_count():\n",
      "    print \"\"\n",
      "    print \"***** Reviews, critics and movies in dataset [unique] *****\"\n",
      "    print \"\"\n",
      "    for key, value in sorted(get_aggregated_count().items()):\n",
      "        if 'unique' in key:\n",
      "            print key, '->', value\n",
      "            \n",
      "    print \"\"\n",
      "    print \"\"\n",
      "    print \"***** Reviews, critics and movies in dataset *****\"\n",
      "    print \"\"\n",
      "    for key, value in sorted(get_aggregated_count().items()):\n",
      "        if not 'unique' in key:\n",
      "            print key, '->', value\n",
      "\n",
      "            \n",
      "print_aggregated_count()\n",
      "\n",
      "if TESTING:\n",
      "    print \"\"\n",
      "    print\"\"\n",
      "    print \"\"\n",
      "    print \"*** Duplicate reviews ***\"\n",
      "    test_dup = check_duplicate_reviews()\n",
      "    print test_dup['rtid'].count()\n",
      "    #print test_dup.head()"
     ],
     "language": "python",
     "metadata": {},
     "outputs": [
      {
       "output_type": "stream",
       "stream": "stdout",
       "text": [
        "\n",
        "***** Reviews, critics and movies in dataset [unique] *****\n",
        "\n",
        "unique_critics -> 610\n",
        "unique_movies -> 1866\n",
        "unique_reviews -> 15010\n",
        "\n",
        "\n",
        "***** Reviews, critics and movies in dataset *****\n",
        "\n",
        "critics -> 15706\n",
        "movies -> 15706\n",
        "reviews -> 15706\n",
        "\n",
        "\n",
        "\n",
        "*** Duplicate reviews ***\n",
        "696\n"
       ]
      }
     ],
     "prompt_number": 8
    },
    {
     "cell_type": "markdown",
     "metadata": {},
     "source": [
      "**2.2** What does the distribution of number of reviews per reviewer look like? Make a histogram"
     ]
    },
    {
     "cell_type": "code",
     "collapsed": false,
     "input": [
      "#Your code here\n",
      "#\n",
      "# Displaying different views of the histogram\n",
      "# - Normal reviews vs Normal Frequency\n",
      "# - Normal reviews vs Log Frequency\n",
      "# - Log reviews vs Normal Frequency\n",
      "# - Log reviews vs Log Frequency\n",
      "#\n",
      "def generateReviewsHist():\n",
      "    #group by critics to get the number of reviews\n",
      "    gby_critic = critics.groupby('critic')\n",
      "    gby_critic_ct = gby_critic.count()\n",
      "    print gby_critic_ct[['quote']].head()\n",
      "    \n",
      "    plt.subplot(221) # 2 rows, 2 columns, 1st plot\n",
      "    dummy_va =plt.hist(gby_critic_ct['quote'], bins=20)\n",
      "    plt.title(\"Normal Reviews\")\n",
      "    plt.xlabel(\"Number of reviews\")\n",
      "    plt.ylabel(\"Frequency\")\n",
      "    remove_border()\n",
      "    \n",
      "    plt.subplot(222) # 2 row, 2 columns, 2nd plot \n",
      "    dummy_va =plt.hist(gby_critic_ct['quote'],bins=20, log=True)\n",
      "    plt.title(\"Logarithmic frequency\")\n",
      "    remove_border()\n",
      "    \n",
      "    plt.subplot(223) # 2 row, 1 columns, 2nd plot \n",
      "    dummy_va =plt.hist(np.log(gby_critic_ct['quote']),bins=20, log=False)\n",
      "    plt.title(\"Logarithmic reviews\")\n",
      "    remove_border()\n",
      "\n",
      "    plt.subplot(224) # 2 row, 1 columns, 2nd plot \n",
      "    dummy_va =plt.hist(np.log(gby_critic_ct['quote']),bins=20, log=True)\n",
      "    plt.title(\"Logarithmic reviews and frequency\")\n",
      "    remove_border()\n",
      "    \n",
      "    plt.tight_layout();\n",
      "    \n",
      "\n",
      "generateReviewsHist()    \n"
     ],
     "language": "python",
     "metadata": {},
     "outputs": [
      {
       "output_type": "stream",
       "stream": "stdout",
       "text": [
        "              quote\n",
        "critic             \n",
        "A.D. Murphy      12\n",
        "A.H. Weiler      17\n",
        "A.O. Scott       12\n",
        "Aaron Hillis      2\n",
        "Abel Green        5\n"
       ]
      },
      {
       "metadata": {},
       "output_type": "display_data",
       "png": "[encoded data removed]",
       "text": [
        "<matplotlib.figure.Figure at 0x109bfc790>"
       ]
      }
     ],
     "prompt_number": 9
    },
    {
     "cell_type": "markdown",
     "metadata": {},
     "source": [
      "**2.3** List the 5 critics with the most reviews, along with the publication they write for"
     ]
    },
    {
     "cell_type": "code",
     "collapsed": false,
     "input": [
      "#Your code here\n",
      "#\n",
      "# Returns the critics with the most reviees\n",
      "# If the critic has worked for more than one publication\n",
      "# then returns the number broken down by publication\n",
      "#\n",
      "def aggregate_critics_by_publication():\n",
      "    \n",
      "    cols = ['critic', 'publication', 'reviews']  \n",
      "    result_df = pd.DataFrame(columns=cols)\n",
      "\n",
      "    top_critics = critics.groupby(critics['critic'])\n",
      "    for key, group in top_critics:\n",
      "        res_dict = {}\n",
      "        sub_group = group.groupby('publication')\n",
      "        for key_sub, group_sub in sub_group:\n",
      "            #print key, key_sub, sub_group['rtid'].count()\n",
      "            pub_counts = group_sub['rtid'].count() \n",
      "            res_dict['critic'] = key   \n",
      "            res_dict['publication'] = key_sub\n",
      "            res_dict['reviews'] = pub_counts\n",
      "            val = pd.Series(res_dict.values(), index=res_dict.keys())\n",
      "            result_df = result_df.append(val, ignore_index=True)\n",
      "    result_df = result_df.sort('reviews', ascending = False)\n",
      "    \n",
      "    return result_df\n",
      "\n",
      "\n",
      "\n",
      "# Returns the critics with the most reviews\n",
      "# Adds up the number if critic has worked in more than one publication\n",
      "def aggregate_critics_across_publications():\n",
      "    \n",
      "    cols = ['critic', 'publication', 'reviews']  \n",
      "    result_df = pd.DataFrame(columns=cols)\n",
      "\n",
      "    top_critics = critics.groupby(critics['critic'])\n",
      "    for key, group in top_critics:\n",
      "        res_dict = {}\n",
      "        pub_counts = group['rtid'].count() \n",
      "        res_dict['critic'] = key   \n",
      "        res_dict['publication'] = group['publication'].unique()\n",
      "        res_dict['reviews'] = pub_counts\n",
      "        \n",
      "        val = pd.Series(res_dict.values(), index=res_dict.keys())\n",
      "        result_df = result_df.append(val, ignore_index=True)\n",
      "        \n",
      "    result_df = result_df.sort('reviews', ascending = False)\n",
      "    return result_df\n",
      "\n",
      "\n",
      "print \"\"\n",
      "print '*** Critic ranking based on single publication ***]'\n",
      "print\n",
      "aggregated_critics_by_publication = aggregate_critics_by_publication()\n",
      "print aggregated_critics_by_publication.head()\n",
      "print \n",
      "print\n",
      "print '*** Critic ranking based on overall [multiple publications] ***'\n",
      "print\n",
      "aggregated_critics_across_publications = aggregate_critics_across_publications()\n",
      "print aggregated_critics_across_publications.head()\n",
      "print "
     ],
     "language": "python",
     "metadata": {},
     "outputs": [
      {
       "output_type": "stream",
       "stream": "stdout",
       "text": [
        "\n",
        "*** Critic ranking based on single publication ***]\n",
        "\n",
        "                 critic        publication reviews\n",
        "571         Roger Ebert  Chicago Sun-Times    1088\n",
        "277  James Berardinelli          ReelViews     827\n",
        "286        Janet Maslin     New York Times     531\n",
        "665       Variety Staff            Variety     445\n",
        "355  Jonathan Rosenbaum     Chicago Reader     416"
       ]
      },
      {
       "output_type": "stream",
       "stream": "stdout",
       "text": [
        "\n",
        "\n",
        "\n",
        "*** Critic ranking based on overall [multiple publications] ***\n",
        "\n",
        "                 critic                         publication reviews\n",
        "511         Roger Ebert  [Chicago Sun-Times, At the Movies]    1145\n",
        "251  James Berardinelli                         [ReelViews]     827\n",
        "259        Janet Maslin                    [New York Times]     531\n",
        "598       Variety Staff                           [Variety]     445\n",
        "321  Jonathan Rosenbaum                    [Chicago Reader]     416"
       ]
      },
      {
       "output_type": "stream",
       "stream": "stdout",
       "text": [
        "\n",
        "\n"
       ]
      }
     ],
     "prompt_number": 10
    },
    {
     "cell_type": "markdown",
     "metadata": {},
     "source": [
      "**2.4** Of the critics with > 100 reviews, plot the distribution of average \"freshness\" rating per critic"
     ]
    },
    {
     "cell_type": "code",
     "collapsed": false,
     "input": [
      "#Your code here\n",
      "#\n",
      "# for  critics with > 100 reviews\n",
      "# plot the distribution of average \"freshness\" rating per critic   \n",
      "#\n",
      "def calculate_critics_rating():\n",
      "    \n",
      "    # leave the original alone\n",
      "    top_critics = critics.copy()\n",
      "\n",
      "    # turn freshness True or False to 1 or 0\n",
      "    top_critics['freshness'] = top_critics['fresh'] == 'fresh'\n",
      "    top_critics['freshness'] = top_critics['freshness'] + 0\n",
      "\n",
      "    # and group by critics\n",
      "    top_critics = top_critics.groupby(top_critics['critic'])\n",
      "    \n",
      "    # a structure to carry result data\n",
      "    dict_array = [] \n",
      "    \n",
      "    # loop over the grouped critics \n",
      "    # and if the critic has more than 100 reviews\n",
      "    # save the average freshness rating\n",
      "    for critic, group in top_critics:\n",
      "        res_dict = {}\n",
      "        reviews = group['quote'].count()\n",
      "        freshness = group['freshness'].mean() #average freshness\n",
      "        if reviews > 100:\n",
      "            res_dict['critic'] = critic\n",
      "            res_dict['reviews'] = reviews\n",
      "            res_dict['freshness'] = freshness\n",
      "            dict_array.append(res_dict)\n",
      "    \n",
      "    result_df = pd.DataFrame.from_dict (dict_array)\n",
      "    return result_df\n",
      "\n",
      "\n",
      "# we have the grouped data for critics with > 100 reviews\n",
      "critics_rating_df = calculate_critics_rating()\n",
      "\n",
      "#print critics_rating_df[:]\n",
      "\n",
      "\n",
      "# a little summary\n",
      "print\"\"\n",
      "print critics_rating_df.sort('reviews', ascending=False).head()\n",
      "print\"\"\n",
      "\n",
      "# the distribution bins spread out to the number of critics (36)\n",
      "plt.subplot(2,1,1) # 2 rows, 1 columns, 1st plot\n",
      "\n",
      "suppress_output = plt.hist(critics_rating_df['freshness'], \n",
      "                  bins=len(critics_rating_df),\n",
      "                  normed=True)\n",
      "suppress_output = plt.title (\"Average freshness rating per critic [36 bins]\")\n",
      "suppress_output = plt.xlabel(\"Freshness rating\")\n",
      "remove_border()\n",
      "\n",
      "plt.subplot(2,1,2) # 2 rows, 1 columns, 1st plot\n",
      "suppress_output = plt.hist(critics_rating_df['freshness'], \n",
      "                  bins=10,\n",
      "                  normed=True)\n",
      "suppress_output = plt.title (\"Average freshness rating per critic [10 bins]\")\n",
      "suppress_output = plt.xlabel(\"Freshness rating\")\n",
      "remove_border()\n",
      "\n",
      "plt.tight_layout();\n",
      "\n",
      "# look like the two most prolific reviewers Roger Ebert and James Berardinelli\n",
      "# really gravitated to the middle"
     ],
     "language": "python",
     "metadata": {},
     "outputs": [
      {
       "output_type": "stream",
       "stream": "stdout",
       "text": [
        "\n",
        "                critic  freshness  reviews\n",
        "30         Roger Ebert   0.679476     1145\n",
        "8   James Berardinelli   0.609432      827\n",
        "9         Janet Maslin   0.708098      531\n",
        "35       Variety Staff   0.737079      445\n",
        "15  Jonathan Rosenbaum   0.605769      416\n",
        "\n"
       ]
      },
      {
       "metadata": {},
       "output_type": "display_data",
       "png": "[encoded data removed]",
       "text": [
        "<matplotlib.figure.Figure at 0x109ba1b10>"
       ]
      }
     ],
     "prompt_number": 11
    },
    {
     "cell_type": "markdown",
     "metadata": {},
     "source": [
      "**2.5**\n",
      "Using the original `movies` dataframe, plot the rotten tomatoes Top Critics Rating as a function of year. Overplot the average for each year, ignoring the score=0 examples (some of these are missing data). Comment on the result -- is there a trend? What do you think it means?"
     ]
    },
    {
     "cell_type": "code",
     "collapsed": false,
     "input": [
      "#Your code here\n",
      "#\n",
      "#Using the original movies dataframe, plot the rotten tomatoes Top Critics Rating \n",
      "#as a function of year. Overplot the average for each year, ignoring the score=0 \n",
      "#examples (some of these are missing data). Comment on the result -- is there a trend? \n",
      "#What do you think it means?\n",
      "#\n",
      "import string\n",
      "\n",
      "def clean(x):\n",
      "    #x = x.strip('\\n')\n",
      "    x = x.strip('\\N')\n",
      "    x = x.strip('\\t')\n",
      "    x = x.strip(' ')\n",
      "    x = x.strip('.')\n",
      "    #now get rid of whatever else is there\n",
      "    try:\n",
      "        float(x)\n",
      "    except ValueError:\n",
      "        return -1.\n",
      "    return x\n",
      "\n",
      "#use a leaner version of movies - just for resource conservation\n",
      "movies_lean = movies[['year', 'rtTopCriticsRating']]\n",
      "movies_lean = movies_lean.dropna()\n",
      "movies_lean = movies_lean[movies_lean.rtTopCriticsRating != '0'] #remove zero\n",
      "movies_lean.rtTopCriticsRating = movies_lean['rtTopCriticsRating'].apply(clean) #clean up\n",
      "movies_lean.rtTopCriticsRating = movies_lean['rtTopCriticsRating'].astype(float)\n",
      "movies_lean = movies_lean[movies_lean.rtTopCriticsRating > 0] \n",
      "\n",
      "#ceate scatter plot for all movies against each year\n",
      "suppress_output = plt.scatter(movies_lean['year'], movies_lean['rtTopCriticsRating'], alpha=0.2)\n",
      "suppress_output = remove_border()\n",
      "\n",
      "# now let us create top critics average rating per year\n",
      "movies_lean_grp = movies_lean.groupby('year')\n",
      "avg_tc_rating_dict = {}\n",
      "for key, val in movies_lean_grp:\n",
      "    avg_tc_rating_dict[key] = val['rtTopCriticsRating'].mean()\n",
      "plt.title(\"Top critics rating\")\n",
      "plt.ylabel(\"Ratings\")\n",
      "suppress_output = plt.plot(avg_tc_rating_dict.keys(), avg_tc_rating_dict.values())\n"
     ],
     "language": "python",
     "metadata": {},
     "outputs": [
      {
       "metadata": {},
       "output_type": "display_data",
       "png": "[encoded data removed]",
       "text": [
        "<matplotlib.figure.Figure at 0x109bf8150>"
       ]
      }
     ],
     "prompt_number": 12
    },
    {
     "cell_type": "markdown",
     "metadata": {},
     "source": [
      "***\n",
      "*Your Comment Here*\n",
      "###Answer\n",
      "\n",
      "*The trend is definitely downward with the critics rating the current movies more harshly than the older ones. Going back in time the critics seem to be quite ambivalent about the old movies. For example, they seem to have very high opinion of the movies in the 30s, 40s, 50s and 60s. This may also be due to the fact that lot more movies are produced now and as a rule of thumb you get more bad movies than the good one. The other  probable reason is that very few old movies are rated. The critics are cherry picking and watching only classics and not rating most of the bad movies from those times.*\n",
      "***"
     ]
    },
    {
     "cell_type": "markdown",
     "metadata": {},
     "source": [
      "## Part 3: Sentiment Analysis\n",
      "\n",
      "You will now use a [Naive Bayes classifier](https://en.wikipedia.org/wiki/Naive_Bayes_classifier) to build a prediction model for whether a review is fresh or rotten, depending on the text of the review. See Lecture 9 for a discussion of Naive Bayes.\n",
      "\n",
      "Most models work with numerical data, so we need to convert the textual collection of reviews to something numerical. A common strategy for text classification is to represent each review as a \"bag of words\" vector -- a long vector\n",
      "of numbers encoding how many times a particular word appears in a blurb.\n",
      "\n",
      "Scikit-learn has an object called a `CountVectorizer` that turns text into a bag of words. Here's a quick tutorial:"
     ]
    },
    {
     "cell_type": "code",
     "collapsed": false,
     "input": [
      "from sklearn.feature_extraction.text import CountVectorizer\n",
      "\n",
      "text = ['Hop on pop', 'Hop off pop', 'Hop Hop hop']\n",
      "#text = ['This movie is not remarkable, touching, or superb in any way']\n",
      "print \"Original text is\\n\", '\\n'.join(text)\n",
      "\n",
      "vectorizer = CountVectorizer(min_df=0)\n",
      "\n",
      "# call `fit` to build the vocabulary\n",
      "vectorizer.fit(text)\n",
      "\n",
      "# call `transform` to convert text to a bag of words\n",
      "x = vectorizer.transform(text)\n",
      "\n",
      "# CountVectorizer uses a sparse array to save memory, but it's easier in this assignment to \n",
      "# convert back to a \"normal\" numpy array\n",
      "x = x.toarray()\n",
      "\n",
      "print\n",
      "print \"Transformed text vector is \\n\", x\n",
      "\n",
      "# `get_feature_names` tracks which word is associated with each column of the transformed x\n",
      "print\n",
      "print \"Words for each feature:\"\n",
      "print vectorizer.get_feature_names()\n",
      "\n",
      "# Notice that the bag of words treatment doesn't preserve information about the *order* of words, \n",
      "# just their frequency"
     ],
     "language": "python",
     "metadata": {},
     "outputs": [
      {
       "output_type": "stream",
       "stream": "stdout",
       "text": [
        "Original text is\n",
        "Hop on pop\n",
        "Hop off pop\n",
        "Hop Hop hop\n",
        "\n",
        "Transformed text vector is \n",
        "[[1 0 1 1]\n",
        " [1 1 0 1]\n",
        " [3 0 0 0]]\n",
        "\n",
        "Words for each feature:\n",
        "[u'hop', u'off', u'on', u'pop']\n"
       ]
      }
     ],
     "prompt_number": 13
    },
    {
     "cell_type": "markdown",
     "metadata": {},
     "source": [
      "**3.1**\n",
      "\n",
      "Using the `critics` dataframe, compute a pair of numerical X, Y arrays where:\n",
      "    \n",
      " * X is a `(nreview, nwords)` array. Each row corresponds to a bag-of-words representation for a single review. This will be the *input* to your model.\n",
      " * Y is a `nreview`-element 1/0 array, encoding whether a review is Fresh (1) or Rotten (0). This is the desired *output* from your model.\n"
     ]
    },
    {
     "cell_type": "code",
     "collapsed": false,
     "input": [
      "#hint: Consult the scikit-learn documentation to\n",
      "#      learn about what these classes do do\n",
      "from sklearn.cross_validation import train_test_split\n",
      "from sklearn.naive_bayes import MultinomialNB\n",
      "\n",
      "\"\"\"\n",
      "Function\n",
      "--------\n",
      "make_xy\n",
      "\n",
      "Build a bag-of-words training set for the review data\n",
      "\n",
      "Parameters\n",
      "-----------\n",
      "critics : Pandas DataFrame\n",
      "    The review data from above\n",
      "    \n",
      "vectorizer : CountVectorizer object (optional)\n",
      "    A CountVectorizer object to use. If None,\n",
      "    then create and fit a new CountVectorizer.\n",
      "    Otherwise, re-fit the provided CountVectorizer\n",
      "    using the critics data\n",
      "    \n",
      "Returns\n",
      "-------\n",
      "X : numpy array (dims: nreview, nwords)\n",
      "    Bag-of-words representation for each review.\n",
      "Y : numpy array (dims: nreview)\n",
      "    1/0 array. 1 = fresh review, 0 = rotten review\n",
      "\n",
      "Examples\n",
      "--------\n",
      "X, Y = make_xy(critics)\n",
      "\"\"\"\n",
      "def make_xy(critics, vectorizer=None):\n",
      "    \n",
      "    critics_copy = critics.copy()\n",
      "    \n",
      "    if vectorizer is None:\n",
      "        vectorizer = CountVectorizer(min_df=0)\n",
      "    \n",
      "    quotes = critics['quote']\n",
      "    \n",
      "    # call `fit` to build the vocabulary\n",
      "    vectorizer.fit(quotes)\n",
      "    \n",
      "    # call `transform` to convert text to a bag of words\n",
      "    x = vectorizer.transform(quotes)\n",
      "   \n",
      "    # convert back to a \"normal\" numpy array\n",
      "    # x = x.toarray()\n",
      "    #print\"\"\n",
      "    #print \"Transformed text vector is \\n\", x\n",
      "    \n",
      "    #assigne True (1) or False (0) for freshness\n",
      "    critics_copy['freshness'] = (critics_copy['fresh'] == 'fresh') + 0\n",
      "    freshness = np.array(critics_copy['freshness'])\n",
      "    \n",
      "    x = x.tocsc()\n",
      "    \n",
      "    # check if everything is properly indexed\n",
      "    #print critics_copy.head(50)\n",
      "    \n",
      "    return x, freshness\n",
      "\n",
      "if TESTING: \n",
      "    test_result = make_xy(critics[:2])\n",
      "    print test_result\n",
      "    print \"\"\n",
      "    print  critics['quote'][:2]\n",
      "    print test_result[:2]\n",
      "    print \"\"\n",
      "    \n",
      "    # test output\n",
      "    #[[2 1 1 1 0 1 1 1 1 1 1 1 0 1 1 0 1 1 1 1 1 1 1 1 0 1 0 1]\n",
      "    #[0 0 0 0 1 0 0 0 0 0 0 0 1 0 0 1 0 0 0 0 0 0 0 0 1 0 1 0]]"
     ],
     "language": "python",
     "metadata": {},
     "outputs": [
      {
       "output_type": "stream",
       "stream": "stdout",
       "text": [
        "(<2x28 sparse matrix of type '<type 'numpy.int64'>'\n",
        "\twith 28 stored elements in Compressed Sparse Column format>, array([1, 1]))\n",
        "\n",
        "1    So ingenious in concept, design and execution ...\n",
        "2                    The year's most inventive comedy.\n",
        "Name: quote, dtype: object\n",
        "(<2x28 sparse matrix of type '<type 'numpy.int64'>'\n",
        "\twith 28 stored elements in Compressed Sparse Column format>, array([1, 1]))\n",
        "\n"
       ]
      }
     ],
     "prompt_number": 14
    },
    {
     "cell_type": "code",
     "collapsed": false,
     "input": [
      "X, Y = make_xy(critics)\n",
      "\n",
      "print\"\"\n",
      "print type(X), X.shape, type(Y)\n",
      "print \"\""
     ],
     "language": "python",
     "metadata": {},
     "outputs": [
      {
       "output_type": "stream",
       "stream": "stdout",
       "text": [
        "\n",
        "<class 'scipy.sparse.csc.csc_matrix'> (15706, 22127) <type 'numpy.ndarray'>\n",
        "\n"
       ]
      }
     ],
     "prompt_number": 15
    },
    {
     "cell_type": "markdown",
     "metadata": {},
     "source": [
      "\n",
      "**3.2** Next, randomly split the data into two groups: a\n",
      "training set and a validation set. \n",
      "\n",
      "Use the training set to train a `MultinomialNB` classifier,\n",
      "and print the accuracy of this model on the validation set\n",
      "\n",
      "**Hint**\n",
      "You can use [`train_test_split`](http://scikit-learn.org/stable/modules/generated/sklearn.cross_validation.train_test_split.html) to split up the training data"
     ]
    },
    {
     "cell_type": "code",
     "collapsed": false,
     "input": [
      "#Your code here\n",
      "from sklearn.cross_validation import train_test_split\n",
      "from sklearn.naive_bayes import MultinomialNB\n",
      "\n",
      "xtrain, xtest, ytrain, ytest = train_test_split(X, Y) #test size 0.25 by default\n",
      "\n",
      "clf = MultinomialNB()\n",
      "mnb_train_fit = clf.fit(xtrain, ytrain)\n",
      "\n",
      "print\"\"\n",
      "print \"**** Accuracy of model on validation set ***\"\n",
      "print \"\"\n",
      "print \"Accuracy on validation set:\", mnb_train_fit.score(xtest, ytest)\n",
      "print \"\""
     ],
     "language": "python",
     "metadata": {},
     "outputs": [
      {
       "output_type": "stream",
       "stream": "stdout",
       "text": [
        "\n",
        "**** Accuracy of model on validation set ***\n",
        "\n",
        "Accuracy on validation set: "
       ]
      },
      {
       "output_type": "stream",
       "stream": "stdout",
       "text": [
        "0.780494015788\n",
        "\n"
       ]
      }
     ],
     "prompt_number": 16
    },
    {
     "cell_type": "markdown",
     "metadata": {},
     "source": [
      "**3.3:**\n",
      "\n",
      "We say a model is **overfit** if it performs better on the training data than on the test data. Is this model overfit? If so, how much more accurate is the model on the training data compared to the test data?"
     ]
    },
    {
     "cell_type": "code",
     "collapsed": false,
     "input": [
      "# Your code here. Print the accuracy on the test and training dataset\n",
      "\n",
      "print\"\"\n",
      "print \"**** Accuracy of model on train and test set ***\"\n",
      "print \"\"\n",
      "print \"Training accuracy:\", mnb_train_fit.score(xtrain, ytrain)\n",
      "print \"Test accuracy:\", mnb_train_fit.score(xtest, ytest)\n",
      "print \"\""
     ],
     "language": "python",
     "metadata": {},
     "outputs": [
      {
       "output_type": "stream",
       "stream": "stdout",
       "text": [
        "\n",
        "**** Accuracy of model on train and test set ***\n",
        "\n",
        "Training accuracy: 0.922489175652\n",
        "Test accuracy: 0.780494015788\n",
        "\n"
       ]
      }
     ],
     "prompt_number": 17
    },
    {
     "cell_type": "markdown",
     "metadata": {},
     "source": [
      "***\n",
      "*Interpret these numbers in a few sentences here*\n",
      "##Answer\n",
      "\n",
      "*The model is overfit. It is able to classify ~92% of the training data while it can only classify ~78% of test data.*\n",
      "\n",
      "*The sample size is pretty big so it is not a matter of getting more samples. I experimented by increasing the training size without any appreciable difference. For a 90% training set it produced a test of score of 78% while for a 99% training size it produced a test of 84%.*\n",
      "\n",
      "*In one of our earlier histograms (2.4) we saw that the rating from different critics is kind of spread out. Probably some critics are inclined to be more harsh while others are lenient in their ratings. This variance will then make it difficult to predict the individual behavior regardless of however many ratings we use for training. On the other hand, the critics are well spread out (looks kind of a normal distribution) so the average ratings should still cancel out in the long run and the test prediction should be as good as training.*\n",
      "\n",
      "*After speaking from both sides of my mouth, I still dont have a concrete answer why the model is not able to perform better for the test data.*\n",
      "***\n"
     ]
    },
    {
     "cell_type": "markdown",
     "metadata": {},
     "source": [
      "**3.4: Model Calibration**\n",
      "\n",
      "Bayesian models like the Naive Bayes classifier have the nice property that they compute probabilities of a particular classification -- the `predict_proba` and `predict_log_proba` methods of `MultinomialNB` compute these probabilities. \n",
      "\n",
      "Being the respectable Bayesian that you are, you should always assess whether these probabilities are **calibrated** -- that is, whether a prediction made with a confidence of `x%` is correct approximately `x%` of the time. We care about calibration because it tells us whether we can trust the probabilities computed by a model. If we can trust model probabilities, we can make better decisions using them (for example, we can calculate how much we should bet or invest in a given prediction).\n",
      "\n",
      "Let's make a plot to assess model calibration. Schematically, we want something like this:\n",
      "\n",
      "<img src=\"http://i.imgur.com/ea5B6zr.png\" width=500px>\n",
      "\n",
      "In words, we want to:\n",
      "\n",
      "* Take a collection of examples, and compute the freshness probability for each using `clf.predict_proba`\n",
      "* Gather examples into bins of similar freshness probability (the diagram shows 5 groups -- you should use something closer to 20)\n",
      "* For each bin, count the number of examples in that bin, and compute the fraction of examples in the bin which are fresh\n",
      "* In the upper plot, graph the expected P(Fresh) (x axis) and observed freshness fraction (Y axis). Estimate the uncertainty in observed freshness fraction $F$ via the [equation](http://en.wikipedia.org/wiki/Binomial_proportion_confidence_interval) $\\sigma = \\sqrt{F (1-F) / N}$\n",
      "* Overplot the line y=x. This is the trend we would expect if the model is calibrated\n",
      "* In the lower plot, show the number of examples in each bin\n",
      "\n",
      "**Hints**\n",
      "\n",
      "The output of `clf.predict_proba(X)` is a `(N example, 2)` array. The first column gives the probability $P(Y=0)$ or  $P(Rotten)$, and the second gives $P(Y=1)$ or $P(Fresh)$.\n",
      "\n",
      "The above image is just a guideline -- feel free to explore other options!"
     ]
    },
    {
     "cell_type": "code",
     "collapsed": false,
     "input": [
      "\"\"\"\n",
      "Function\n",
      "--------\n",
      "calibration_plot\n",
      "\n",
      "Builds a plot like the one above, from a classifier and review data\n",
      "\n",
      "Inputs\n",
      "-------\n",
      "clf : Classifier object\n",
      "    A MultinomialNB classifier\n",
      "X : (Nexample, Nfeature) array\n",
      "    The bag-of-words data\n",
      "Y : (Nexample) integer array\n",
      "    1 if a review is Fresh\n",
      "\"\"\"    \n",
      "#your code here\n",
      "#\n",
      "# Most probably there are magical methods in pandas to significantly shorten the work\n",
      "# but for now I will stick to my comfortable programming practice of looping so please\n",
      "# excuse the large amount of code.\n",
      "#\n",
      "# The code is divided into three methods\n",
      "#\n",
      "# calibration_plot\n",
      "# -> calls create_probs_dataframe to get a dataframe with all probs and bin assignment\n",
      "# -> calls aggregate_calibration_data to get an aggregated df with all probs grouped + associated uncertainty\n",
      "# -> draws the histogram\n",
      "# -> draws the plot for frehness probablity\n",
      "#\n",
      "\n",
      "from scipy import linspace\n",
      "import random\n",
      "\n",
      "# create 20 bins in 0 to 1 range\n",
      "fresh_bins = linspace(0, 1, 21) \n",
      "\n",
      "\n",
      "# Data grouped in bins\n",
      "def create_binned_dataframe(probs_df):\n",
      "    # add unceratainty to the collected probability values\n",
      "    # Estimate uncertainty in observed freshness fraction F \u03c3=sqrt(F(1\u2212F)/N)\n",
      "    group_dict_arr = []\n",
      "    result_df_grp = probs_df.groupby('bin')\n",
      "    for key, val in result_df_grp:\n",
      "        res_dict = {}\n",
      "        res_dict['bin'] = key\n",
      "        res_dict['items_count'] = len(val)\n",
      "        \n",
      "        #predicted fraction fresh - sum of probables in the bin / count\n",
      "        fraction_fresh_prob = float(val['fresh_prob'].sum()) / val['fresh_prob'].count()\n",
      "        res_dict['fraction_fresh_prob'] = fraction_fresh_prob\n",
      "        \n",
      "        #observed fraction fresh - sum of observed in the bin / count\n",
      "        fraction_fresh= float(val['fresh'].sum()) / val['fresh'].count()\n",
      "        res_dict['fraction_fresh'] = fraction_fresh\n",
      "        \n",
      "        #items in this bin - use any from the group\n",
      "        items_in_bin = val['fresh'].count() \n",
      "        \n",
      "        #uncertainty \u03c3=sqrt(F(1\u2212F)/N)\n",
      "        res_dict['uncertainty'] = np.sqrt( \\\n",
      "            ( fraction_fresh * (1 - fraction_fresh) ) / items_in_bin )\n",
      "        \n",
      "        group_dict_arr.append(res_dict)\n",
      "    \n",
      "    #now create a df using bin, items_count, predicted fraction fresh, observed fraction fresh, uncertainty\n",
      "    agg_df = pd.DataFrame.from_dict (group_dict_arr)\n",
      "    \n",
      "    return agg_df\n",
      "\n",
      "\n",
      "# Creates a new data frame  \n",
      "# calculates the estimaged freshness and rotten probabilities \n",
      "# and adds them to a dataframe alongwith the observed freshness\n",
      "# Also adds the bin grouping for each entry\n",
      "# returns the data frame\n",
      "def create_probs_dataframe(clf, xtest, ytest):    \n",
      "\n",
      "    cols = ['rotten_prob', 'fresh_prob', 'fresh', 'bin']  \n",
      "    result_df = pd.DataFrame(columns=[])\n",
      "    \n",
      "    dict_array = []\n",
      "    \n",
      "    #Take a collection of examples, \n",
      "    #and compute the freshness probability for each using clf.predict_proba\n",
      "    probs = clf.predict_proba(xtest)\n",
      "    \n",
      "    for prob, freshness in zip(probs, ytest):\n",
      "        res_dict = {}\n",
      "        res_dict['fresh'] = freshness\n",
      "        res_dict['rotten_prob'] = prob[0] # predict_proba[0] is rotten\n",
      "        res_dict['fresh_prob'] = prob[1] # second one is fresh\n",
      "       \n",
      "        # Gather examples into bins of similar freshness probability \n",
      "        res_dict['bin'] = -1\n",
      "        for fresh_bin in fresh_bins:\n",
      "            if prob[1] < fresh_bin:\n",
      "                res_dict['bin'] = fresh_bin\n",
      "                break\n",
      "        dict_array.append(res_dict)   \n",
      "        \n",
      "    # set your data frame with all probs, real values and binning\n",
      "    result_df = pd.DataFrame.from_dict (dict_array)\n",
      "    return result_df\n",
      "    \n",
      "\n",
      "# the main method to create the calibration plot\n",
      "def calibration_plot(clf, xtest, ytest, confidence_line=False):\n",
      "    \n",
      "    #get the computed data for the plot\n",
      "    probs_df = create_probs_dataframe(clf, xtest, ytest)\n",
      "    agg_df = create_binned_dataframe(probs_df)\n",
      "    \n",
      "    #now let us plot the graph\n",
      "    x = agg_df['fraction_fresh_prob']\n",
      "    y = agg_df['fraction_fresh']\n",
      "    uncertainty = agg_df['uncertainty']\n",
      "    \n",
      "    plt.subplot(2,1,1) # 2 rows, 1 columns, 1st plot\n",
      "    plt.errorbar(x, y, yerr=uncertainty)\n",
      "    \n",
      "    #plot a reference 50% line\n",
      "    plt.plot(x,x)\n",
      "    plt.title(\"Observed vs Predicted Freshness Fraction\")\n",
      "    plt.xlabel(\"Expected freshness\")\n",
      "    plt.ylabel(\"Observed freshness\")\n",
      "    remove_border()\n",
      "    \n",
      "    #for comparison purpose we will draw a line in the middle\n",
      "    if confidence_line:\n",
      "        plt.axvline(linestyle='--', linewidth=2, color='grey', x=0.5)\n",
      "        return\n",
      "    \n",
      "    # plotting the histogram \n",
      "    plt.subplot(2,1,2) #2nd plot\n",
      "    \n",
      "    plt.hist(probs_df['fresh_prob'], bins = fresh_bins)\n",
      "    plt.xlabel('P(fresh)')\n",
      "    plt.ylabel('Number')\n",
      "    plt.hist(ytest, normed=True)\n",
      "    remove_border()\n",
      "    \n",
      "    plt.tight_layout();\n",
      "    \n",
      "    \n",
      "    \n",
      "if TESTING:\n",
      "    pass\n",
      "    #test_probs_df = create_probs_dataframe(clf, xtest, ytest)\n",
      "    #test_aggs_df = create_binned_dataframe(test_probs_df)\n",
      "    #calibration_plot(clf, xtest, ytest)"
     ],
     "language": "python",
     "metadata": {},
     "outputs": [],
     "prompt_number": 18
    },
    {
     "cell_type": "code",
     "collapsed": false,
     "input": [
      "calibration_plot(clf, xtest, ytest)"
     ],
     "language": "python",
     "metadata": {},
     "outputs": [
      {
       "metadata": {},
       "output_type": "display_data",
       "png": "[encoded data removed]",
       "text": [
        "<matplotlib.figure.Figure at 0x109c3b590>"
       ]
      }
     ],
     "prompt_number": 19
    },
    {
     "cell_type": "markdown",
     "metadata": {},
     "source": [
      "**3.5** We might say a model is *over-confident* if the freshness fraction is usually closer to 0.5 than expected (that is, there is more uncertainty than the model predicted). Likewise, a model is *under-confident* if the probabilities are usually further away from 0.5. Is this model generally over- or under-confident? "
     ]
    },
    {
     "cell_type": "code",
     "collapsed": false,
     "input": [
      "calibration_plot(clf, xtest, ytest, confidence_line=True)\n",
      "\n",
      "# That is one of the reasons to wrap data gathering methods separate from rendering to use it independently.\n",
      "# More of a holdover from my business programming background but cant help it\n",
      "test_probs_df2 = create_probs_dataframe(clf, xtest, ytest)\n",
      "test_aggs_df2 = create_binned_dataframe(test_probs_df2)\n",
      "test_aggs_df2['distance_from_0.5'] = abs(0.5 - test_aggs_df2['fraction_fresh_prob'])\n",
      "test_aggs_df2['distance_from_expected'] = abs(test_aggs_df2['fraction_fresh'] - test_aggs_df2['fraction_fresh_prob'])\n",
      "test_aggs_df2['over_confident'] = test_aggs_df2['distance_from_0.5'] < test_aggs_df2['distance_from_expected']\n",
      "print \"\"\n",
      "print \"*** Distance of the fractions from the 0.5 and expected ***\"\n",
      "print \"\"\n",
      "print test_aggs_df2[['bin', 'fraction_fresh', 'distance_from_0.5', 'distance_from_expected', 'over_confident']]\n",
      "print\"\""
     ],
     "language": "python",
     "metadata": {},
     "outputs": [
      {
       "output_type": "stream",
       "stream": "stdout",
       "text": [
        "\n",
        "*** Distance of the fractions from the 0.5 and expected ***\n",
        "\n",
        "     bin  fraction_fresh  distance_from_0.5  distance_from_expected over_confident\n",
        "0   0.05        0.130864           0.482557                0.113421          False\n",
        "1   0.10        0.194245           0.427130                0.121375          False\n",
        "2   0.15        0.224000           0.374715                0.098715          False\n",
        "3   0.20        0.333333           0.323575                0.156909          False\n",
        "4   0.25        0.280000           0.278390                0.058390          False\n",
        "5   0.30        0.253012           0.222848                0.024140          False\n",
        "6   0.35        0.258427           0.174066                0.067507          False\n",
        "7   0.40        0.419355           0.129137                0.048492          False\n",
        "8   0.45        0.493333           0.078820                0.072154          False\n",
        "9   0.50        0.390244           0.024056                0.085700           True\n",
        "10  0.55        0.423913           0.024815                0.100902           True\n",
        "11  0.60        0.375000           0.076767                0.201767           True\n",
        "12  0.65        0.522222           0.126039                0.103817          False\n",
        "13  0.70        0.604396           0.173249                0.068853          False\n",
        "14  0.75        0.605042           0.225619                0.120577          False\n",
        "15  0.80        0.619403           0.278033                0.158630          False\n",
        "16  0.85        0.702703           0.327191                0.124488          False\n",
        "17  0.90        0.752577           0.376377                0.123800          False\n",
        "18  0.95        0.817910           0.427404                0.109493          False\n",
        "19  1.00        0.922906           0.486738                0.063832          False\n",
        "\n"
       ]
      },
      {
       "metadata": {},
       "output_type": "display_data",
       "png": "[encoded data removed]",
       "text": [
        "<matplotlib.figure.Figure at 0x10c5fc710>"
       ]
      }
     ],
     "prompt_number": 22
    },
    {
     "cell_type": "markdown",
     "metadata": {},
     "source": [
      "***\n",
      "*Your Answer Here*\n",
      "##Answer\n",
      "\n",
      "####Teacher's Over and Under Confidence Description\n",
      "\n",
      "-  \"model is over-confident if the freshness fraction is usually closer to 0.5 than expected\"\n",
      "-  \"Likewise, a model is under-confident if the probabilities are usually further away from 0.5.\"\n",
      "\n",
      "####My Result\n",
      "*The model is generally under confident with very few values closer to 0.5 than expected (1.0 fraction). The observed and expected freshness seem to be fairly close together. * \n",
      "\n",
      "\n",
      "####Various Interpretation\n",
      "There have been several interpretations and discussions on the discussion boards what it exactly means (closer to expected than 0.5). There were some explanations that closer to 0.5 meant that the expected was closer to an absolute 0.5 vertical line in the middle. This was also re-iterated by one of the instructor as follows:\n",
      "\n",
      "*So if you find that the estimated probability F^ within a bin is farther from 0.5 than the empirical average freshness F, then the model is overconfident. If you find F^ in each bin is closer to 0.5 than the empirical average freshness F, then the model is underconfident.*\n",
      "\n",
      "####My Interpretation\n",
      "My interpretation was that the description meant that the driving force was the **\"fraction\"**. In ideal cases the fraction will be 1 (expected over observed). This is what the diagonal line in the middle is showing (that the expected fraction is one for all bins). If the expected and observed probabilities are different then the fraction will be either less or more than 1. In these cases our fractions will be either under or over the fraction 1 line.\n",
      "\n",
      "So instead of checking the distance of all values from expected and 0.5, I am only doing it for the binned fractions. This is as good as doing them one by one anyway, since the bins are already averaged.\n",
      "\n",
      "***\n"
     ]
    },
    {
     "cell_type": "markdown",
     "metadata": {},
     "source": [
      "#### Cross Validation\n",
      "\n",
      "Our classifier has a few free parameters. The two most important are:\n",
      "\n",
      " 1. The `min_df` keyword in `CountVectorizer`, which will ignore words which appear in fewer than `min_df` fraction of reviews. Words that appear only once or twice can lead to overfitting, since words which occur only a few times might correlate very well with Fresh/Rotten reviews by chance in the training dataset.\n",
      " \n",
      " 2. The [`alpha` keyword](http://scikit-learn.org/stable/modules/naive_bayes.html#multinomial-naive-bayes) in the Bayesian classifier is a \"smoothing parameter\" -- increasing the value decreases the sensitivity to any single feature, and tends to pull prediction probabilities closer to 50%. \n",
      "\n",
      "As discussed in lecture and HW2, a common technique for choosing appropriate values for these parameters is **cross-validation**. Let's choose good parameters by maximizing the cross-validated log-likelihood.\n",
      "\n",
      "**3.6** Using `clf.predict_log_proba`, write a function that computes the log-likelihood of a dataset"
     ]
    },
    {
     "cell_type": "code",
     "collapsed": false,
     "input": [
      "\"\"\"\n",
      "Function\n",
      "--------\n",
      "log_likelihood\n",
      "\n",
      "Compute the log likelihood of a dataset according to a bayesian classifier. \n",
      "The Log Likelihood is defined by\n",
      "\n",
      "L = Sum_fresh(logP(fresh)) + Sum_rotten(logP(rotten))\n",
      "\n",
      "Where Sum_fresh indicates a sum over all fresh reviews, \n",
      "and Sum_rotten indicates a sum over rotten reviews\n",
      "    \n",
      "Parameters\n",
      "----------\n",
      "clf : Bayesian classifier\n",
      "x : (nexample, nfeature) array\n",
      "    The input data\n",
      "y : (nexample) integer array\n",
      "    Whether each review is Fresh\n",
      "\"\"\"\n",
      "#your code here\n",
      "def log_likelihood(clf, x, y):\n",
      "    \n",
      "    dict_array = []\n",
      "    \n",
      "    probs = clf.predict_log_proba(x)\n",
      "    for prob, freshness in zip(probs, y):\n",
      "        res_dict = {}\n",
      "        res_dict['freshness_observed'] = freshness\n",
      "        res_dict['rotten_prob'] = prob[0] # predict_proba[0] is rotten\n",
      "        res_dict['freshness_prob'] = prob[1] # second one is fresh \n",
      "        \n",
      "        dict_array.append(res_dict)\n",
      "        \n",
      "    # create a data frame\n",
      "    result_df = pd.DataFrame.from_dict (dict_array)\n",
      "    \n",
      "    # if a review is fresh freshness observed is 1 otherwise 0\n",
      "    # just multiply the pobability by freshness to get the real prob (or zero prob if not fresh)\n",
      "    result_df['freshness_likelihood'] = result_df['freshness_prob'] * result_df['freshness_observed']\n",
      "    \n",
      "    # same logic as before - if rotten then less than 1 will return true\n",
      "    # we add 0 to it to covert it to 1 + 0 and then multiply by rotten probability\n",
      "    result_df['rotten_likelihood']= (result_df['freshness_observed'] < 1) + 0\n",
      "    result_df['rotten_likelihood']=  result_df['rotten_prob'] * result_df['rotten_likelihood']\n",
      "    \n",
      "    #print result_df.head()\n",
      "    \n",
      "    # add the fresh and rotten\n",
      "    sum_fresh = result_df['freshness_likelihood'].sum()\n",
      "    sum_rotten = result_df['rotten_likelihood'].sum()\n",
      "    \n",
      "    # return the log likelihood\n",
      "    likelihood = sum_fresh + sum_rotten\n",
      "    return likelihood\n",
      "\n",
      "    \n",
      "if TESTING:\n",
      "    print \"\"\n",
      "    print \"log_likelihood (clf, xtrain, ytrain):\"\n",
      "    print log_likelihood (clf, xtrain, ytrain)\n",
      "    print \"log_likelihood (clf, xtest, ytest):\"\n",
      "    print log_likelihood (clf, xtest, ytest)\n",
      "    print \"\"\n",
      "    \n",
      "#     log_likelihood (clf, xtrain, ytrain):\n",
      "#     -2301.6367103\n",
      "#     log_likelihood (clf, xtest, ytest):\n",
      "#     -2089.17324703\n",
      "    "
     ],
     "language": "python",
     "metadata": {},
     "outputs": [
      {
       "output_type": "stream",
       "stream": "stdout",
       "text": [
        "\n",
        "log_likelihood (clf, xtrain, ytrain):\n",
        "-2325.64732442\n",
        "log_likelihood (clf, xtest, ytest):\n",
        "-2105.23420583"
       ]
      },
      {
       "output_type": "stream",
       "stream": "stdout",
       "text": [
        "\n",
        "\n"
       ]
      }
     ],
     "prompt_number": 23
    },
    {
     "cell_type": "markdown",
     "metadata": {},
     "source": [
      "Here's a function to estimate the cross-validated value of a scoring function, given a classifier and data"
     ]
    },
    {
     "cell_type": "code",
     "collapsed": false,
     "input": [
      "from sklearn.cross_validation import KFold\n",
      "\n",
      "def cv_score(clf, x, y, score_func):\n",
      "    \"\"\"\n",
      "    Uses 5-fold cross validation to estimate a score of a classifier\n",
      "    \n",
      "    Inputs\n",
      "    ------\n",
      "    clf : Classifier object\n",
      "    x : Input feature vector\n",
      "    y : Input class labels\n",
      "    score_func : Function like log_likelihood, that takes (clf, x, y) as input,\n",
      "                 and returns a score\n",
      "                 \n",
      "    Returns\n",
      "    -------\n",
      "    The average score obtained by randomly splitting (x, y) into training and \n",
      "    test sets, fitting on the training set, and evaluating score_func on the test set\n",
      "    \n",
      "    Examples\n",
      "    cv_score(clf, x, y, log_likelihood)\n",
      "    \"\"\"\n",
      "    result = 0\n",
      "    nfold = 5\n",
      "    for train, test in KFold(y.size, nfold): # split data into train/test groups, 5 times\n",
      "        clf.fit(x[train], y[train]) # fit\n",
      "        result += score_func(clf, x[test], y[test]) # evaluate score function on held-out data\n",
      "    return result / nfold # average\n",
      "\n",
      "# as a side note, this function is builtin to the newest version of sklearn. We could just write\n",
      "# sklearn.cross_validation.cross_val_score(clf, x, y, scorer=log_likelihood).\n",
      "\n",
      "if TESTING:\n",
      "    print \"\"\n",
      "    print \"cv_score(clf, xtrain, ytrain, log_likelihood):\", cv_score(clf, xtrain, ytrain, log_likelihood)\n",
      "    print \"cv_score(clf, xtest, ytest, log_likelihood):\" , cv_score(clf, xtest, ytest, log_likelihood)\n",
      "    print \"\"\n",
      "    \n",
      "# cv_score(clf, xtrain, ytrain, log_likelihood): -1346.61980827\n",
      "# cv_score(clf, xtest, ytest, log_likelihood): -635.811331375"
     ],
     "language": "python",
     "metadata": {},
     "outputs": [
      {
       "output_type": "stream",
       "stream": "stdout",
       "text": [
        "\n",
        "cv_score(clf, xtrain, ytrain, log_likelihood): "
       ]
      },
      {
       "output_type": "stream",
       "stream": "stdout",
       "text": [
        "-1327.12801738\n",
        "cv_score(clf, xtest, ytest, log_likelihood): -678.390100188\n",
        "\n"
       ]
      }
     ],
     "prompt_number": 24
    },
    {
     "cell_type": "markdown",
     "metadata": {},
     "source": [
      "**3.7**\n",
      "\n",
      "Fill in the remaining code in this block, to loop over many values of `alpha` and `min_df` to determine\n",
      "which settings are \"best\" in the sense of maximizing the cross-validated log-likelihood"
     ]
    },
    {
     "cell_type": "code",
     "collapsed": false,
     "input": [
      "#the grid of parameters to search over\n",
      "alphas = [0, .1, 1, 5, 10, 50]\n",
      "min_dfs = [1e-5, 1e-4, 1e-3, 1e-2, 1e-1]\n",
      "\n",
      "\n",
      "#Find the best value for alpha and min_df, and the best classifier\n",
      "best_alpha = None\n",
      "best_min_df = None\n",
      "max_loglike = -np.inf\n",
      "\n",
      "old_score = -np.inf\n",
      "\n",
      "for alpha in alphas:\n",
      "    for min_df in min_dfs:         \n",
      "        vectorizer = CountVectorizer(min_df = min_df)       \n",
      "        X, Y = make_xy(critics, vectorizer)\n",
      "        #your code here\n",
      "\n",
      "        clf = MultinomialNB(alpha=alpha)\n",
      "        \n",
      "        current_score = cv_score(clf, X, Y, log_likelihood)\n",
      "        if current_score > old_score and not np.isinf(current_score):\n",
      "            old_score = current_score\n",
      "            best_alpha = alpha\n",
      "            best_min_df = min_df\n",
      "            max_loglike = clf       \n",
      "        print \"alpha=\", alpha, \"min_df=\" , min_df, \"current_score=\", current_score\n",
      "\n",
      "print \"\"\n",
      "print \"\"\n",
      "print \"*** Best in maximizing cross-validated log-likelihood ***\"\n",
      "print \"\"\n",
      "print \"best_alpha=\", best_alpha, \"best_min_df=\" , best_min_df, \"max_loglike=\", max_loglike\n",
      "print \"\"\n",
      "\n",
      "# best_alpha= 5 best_min_df= 0.001 max_loglike= MultinomialNB(alpha=5, class_prior=None, fit_prior=True)\n"
     ],
     "language": "python",
     "metadata": {},
     "outputs": [
      {
       "output_type": "stream",
       "stream": "stdout",
       "text": [
        "alpha= 0 min_df= 1e-05 current_score= -inf\n",
        "alpha="
       ]
      },
      {
       "output_type": "stream",
       "stream": "stdout",
       "text": [
        " 0 min_df= 0.0001 current_score= -inf\n",
        "alpha="
       ]
      },
      {
       "output_type": "stream",
       "stream": "stdout",
       "text": [
        " 0 min_df= 0.001 current_score= -inf\n",
        "alpha="
       ]
      },
      {
       "output_type": "stream",
       "stream": "stdout",
       "text": [
        " 0 min_df= 0.01 current_score= -1967.643196\n",
        "alpha="
       ]
      },
      {
       "output_type": "stream",
       "stream": "stdout",
       "text": [
        " 0 min_df= 0.1 current_score= -2070.43698114\n",
        "alpha="
       ]
      },
      {
       "output_type": "stream",
       "stream": "stdout",
       "text": [
        " 0.1 min_df= 1e-05 current_score= -2467.9201218\n",
        "alpha="
       ]
      },
      {
       "output_type": "stream",
       "stream": "stdout",
       "text": [
        " 0.1 min_df= 0.0001 current_score= -2467.92021616\n",
        "alpha="
       ]
      },
      {
       "output_type": "stream",
       "stream": "stdout",
       "text": [
        " 0.1 min_df= 0.001 current_score= -1812.72174141\n",
        "alpha="
       ]
      },
      {
       "output_type": "stream",
       "stream": "stdout",
       "text": [
        " 0.1 min_df= 0.01 current_score= -1967.56040878\n",
        "alpha="
       ]
      },
      {
       "output_type": "stream",
       "stream": "stdout",
       "text": [
        " 0.1 min_df= 0.1 current_score= -2070.43659867\n",
        "alpha="
       ]
      },
      {
       "output_type": "stream",
       "stream": "stdout",
       "text": [
        " 1 min_df= 1e-05 current_score= -1741.19849446\n",
        "alpha="
       ]
      },
      {
       "output_type": "stream",
       "stream": "stdout",
       "text": [
        " 1 min_df= 0.0001 current_score= -1728.89487418\n",
        "alpha="
       ]
      },
      {
       "output_type": "stream",
       "stream": "stdout",
       "text": [
        " 1 min_df= 0.001 current_score= -1745.78341857\n",
        "alpha="
       ]
      },
      {
       "output_type": "stream",
       "stream": "stdout",
       "text": [
        " 1 min_df= 0.01 current_score= -1966.84882603\n",
        "alpha="
       ]
      },
      {
       "output_type": "stream",
       "stream": "stdout",
       "text": [
        " 1 min_df= 0.1 current_score= -2070.43324536\n",
        "alpha="
       ]
      },
      {
       "output_type": "stream",
       "stream": "stdout",
       "text": [
        " 5 min_df= 1e-05 current_score= -2616.75572326\n",
        "alpha="
       ]
      },
      {
       "output_type": "stream",
       "stream": "stdout",
       "text": [
        " 5 min_df= 0.0001 current_score= -1954.43937718\n",
        "alpha="
       ]
      },
      {
       "output_type": "stream",
       "stream": "stdout",
       "text": [
        " 5 min_df= 0.001 current_score= -1686.90501842\n",
        "alpha="
       ]
      },
      {
       "output_type": "stream",
       "stream": "stdout",
       "text": [
        " 5 min_df= 0.01 current_score= -1964.33211421\n",
        "alpha="
       ]
      },
      {
       "output_type": "stream",
       "stream": "stdout",
       "text": [
        " 5 min_df= 0.1 current_score= -2070.42025187\n",
        "alpha="
       ]
      },
      {
       "output_type": "stream",
       "stream": "stdout",
       "text": [
        " 10 min_df= 1e-05 current_score= -3686.66297728\n",
        "alpha="
       ]
      },
      {
       "output_type": "stream",
       "stream": "stdout",
       "text": [
        " 10 min_df= 0.0001 current_score= -2733.97782282\n",
        "alpha="
       ]
      },
      {
       "output_type": "stream",
       "stream": "stdout",
       "text": [
        " 10 min_df= 0.001 current_score= -1695.77941485\n",
        "alpha="
       ]
      },
      {
       "output_type": "stream",
       "stream": "stdout",
       "text": [
        " 10 min_df= 0.01 current_score= -1962.37928391\n",
        "alpha="
       ]
      },
      {
       "output_type": "stream",
       "stream": "stdout",
       "text": [
        " 10 min_df= 0.1 current_score= -2070.40827939\n",
        "alpha="
       ]
      },
      {
       "output_type": "stream",
       "stream": "stdout",
       "text": [
        " 50 min_df= 1e-05 current_score= -5096.60569816\n",
        "alpha="
       ]
      },
      {
       "output_type": "stream",
       "stream": "stdout",
       "text": [
        " 50 min_df= 0.0001 current_score= -4585.99098379\n",
        "alpha="
       ]
      },
      {
       "output_type": "stream",
       "stream": "stdout",
       "text": [
        " 50 min_df= 0.001 current_score= -2472.2267432\n",
        "alpha="
       ]
      },
      {
       "output_type": "stream",
       "stream": "stdout",
       "text": [
        " 50 min_df= 0.01 current_score= -1972.17109406\n",
        "alpha="
       ]
      },
      {
       "output_type": "stream",
       "stream": "stdout",
       "text": [
        " 50 min_df= 0.1 current_score= -2070.46273517\n",
        "\n",
        "\n",
        "*** Best in maximizing cross-validated log-likelihood ***\n",
        "\n",
        "best_alpha= 5 best_min_df= 0.001 max_loglike= MultinomialNB(alpha=5, class_prior=None, fit_prior=True)\n",
        "\n"
       ]
      }
     ],
     "prompt_number": 25
    },
    {
     "cell_type": "code",
     "collapsed": false,
     "input": [
      "print \"alpha: %f\" % best_alpha\n",
      "print \"min_df: %f\" % best_min_df\n",
      "\n",
      "#alpha= 5 min_df= 0.001 current_score= -1686.90501842"
     ],
     "language": "python",
     "metadata": {},
     "outputs": [
      {
       "output_type": "stream",
       "stream": "stdout",
       "text": [
        "alpha: 5.000000\n",
        "min_df: 0.001000\n"
       ]
      }
     ],
     "prompt_number": 26
    },
    {
     "cell_type": "markdown",
     "metadata": {},
     "source": [
      "**3.8** Now that you've determined values for alpha and min_df that optimize the cross-validated log-likelihood, repeat the steps in 3.1, 3.2, and 3.4 to train a final classifier with these parameters, re-evaluate the accuracy, and draw a new calibration plot."
     ]
    },
    {
     "cell_type": "code",
     "collapsed": false,
     "input": [
      "#Your code here\n",
      "# Optimized Cross Validated (cv) solution\n",
      "\n",
      "# 3.1 Create new vectorizer so that it is unaffected by our previous shenanigans\n",
      "vectorizer_cv = CountVectorizer(min_df = best_min_df)  \n",
      "X_cv, Y_cv = make_xy(critics, vectorizer_cv)\n",
      "\n",
      "# 3.2 split into train and test\n",
      "xtrain_cv, xtest_cv, ytrain_cv, ytest_cv = train_test_split(X_cv, Y_cv) \n",
      "\n",
      "clf_cv = MultinomialNB(alpha=best_alpha)\n",
      "train_fit_cv = clf_cv.fit(xtrain_cv, ytrain_cv)\n",
      "\n",
      "# 3.4 now plot our cross validated data\n",
      "supress_output = calibration_plot(clf_cv, xtest_cv, ytest_cv)\n",
      "\n",
      "print\"\"\n",
      "print \"**** Accuracy of cross validate model on train and test set ***\"\n",
      "print \"\"\n",
      "print \"Training accuracy:\", train_fit_cv.score(xtrain_cv, ytrain_cv)\n",
      "print \"Test accuracy:\", train_fit_cv.score(xtest_cv, ytest_cv)\n",
      "print \"\""
     ],
     "language": "python",
     "metadata": {},
     "outputs": [
      {
       "output_type": "stream",
       "stream": "stdout",
       "text": [
        "\n",
        "**** Accuracy of cross validate model on train and test set ***\n",
        "\n",
        "Training accuracy: 0.788691739536\n",
        "Test accuracy: 0.747899159664\n",
        "\n"
       ]
      },
      {
       "metadata": {},
       "output_type": "display_data",
       "png": "[encoded data removed]",
       "text": [
        "<matplotlib.figure.Figure at 0x10c631110>"
       ]
      }
     ],
     "prompt_number": 28
    },
    {
     "cell_type": "markdown",
     "metadata": {},
     "source": [
      "**3.9** Discuss the various ways in which Cross-Validation has affected the model. Is the new model more or less accurate? Is overfitting better or worse? Is the model more or less calibrated?"
     ]
    },
    {
     "cell_type": "markdown",
     "metadata": {},
     "source": [
      "***\n",
      "*Your Answer Here*\n",
      "##Answer\n",
      "**Accuracy:**\n",
      "The training accuracy has actually decreased significantly as a result of cross validation. The test accuracy is also less than the previous one. However there is a nearly one to one correspondence between training and test accuracy now. So the accuracy is a little more realistic.\n",
      "\n",
      "* Training accuracy after cross v: 0.788012564734\n",
      "* Test accuracy after cross v: 0.745098039216\n",
      "\n",
      "**Overfitting**\n",
      "There is less Overfitting with the cross validate model. In the previous version, we were able to go upwards of 90% training accuracy but around 77% of test accuracy. So the old model was very aggressively over fitting the training data and then doing a comparatively worse job on the test data. \n",
      "\n",
      "The test accuracy in both cases are nearly similar, so what is the big deal ? I would argue that we would have been lulled into the wrong belief that our 90% accuracy would predict 90% of our test data landing us with unpleasant surprises and wrong inferences. The cross validate model has nearly the same accuracy on training and test and is therefore more predicable. \n",
      "\n",
      "**Calibration:**\n",
      "The calibration is tighter than the previous version. Calibration was defined as *\"a prediction made with a confidence of x% is correct approximately x% of the time\"*. We can see that the expected values are clinging more to the expected fractions. \n",
      "\n",
      "**Distribution of Histogram:** \n",
      "The histogram is much more evenly distributed than the previous version. In the previous version we could see that the extemes were richly populated while in the middle the histograms has few values. The most probable reason is that the previous model was aggressively predicting on the training data. The cross validated histogram is more spread out with even distribution. This means that the predictions are not as aggressive as before (which we already saw in the accuracies).\n",
      "***"
     ]
    },
    {
     "cell_type": "markdown",
     "metadata": {},
     "source": [
      "*To think about/play with, but not to hand in: What would happen if you tried this again using a function besides the log-likelihood -- for example, the classification accuracy?*"
     ]
    },
    {
     "cell_type": "markdown",
     "metadata": {},
     "source": [
      "## Part 4: Interpretation. What words best predict a fresh or rotten review?\n",
      "\n",
      "**4.1**\n",
      "Using your classifier and the `vectorizer.get_feature_names` method, determine which words best predict a positive or negative review. Print the 10 words\n",
      "that best predict a \"fresh\" review, and the 10 words that best predict a \"rotten\" review. For each word, what is the model's probability of freshness if the word appears one time?\n",
      "\n",
      "#### Hints\n",
      "\n",
      "* Try computing the classification probability for a feature vector which consists of all 0s, except for a single 1. What does this probability refer to?\n",
      "\n",
      "* `np.eye` generates a matrix where the ith row is all 0s, except for the ith column which is 1."
     ]
    },
    {
     "cell_type": "code",
     "collapsed": false,
     "input": [
      "# Your code here\n",
      "### Generate my classifer to get rid of any previous holdovers ###\n",
      "v_i = CountVectorizer(min_df = 0.001)  # i for identity\n",
      "X_i, Y_i = make_xy(critics, v_i)\n",
      "xtrain_i, xtest_i, ytrain_i, ytest_i = train_test_split(X_i, Y_i) \n",
      "clf_i = MultinomialNB(alpha=5)\n",
      "train_fit_i = clf_i.fit(xtrain_i, ytrain_i)\n",
      "words_i = v_i.get_feature_names()\n",
      "xdiag_i = np.eye(len(words_i))\n",
      "probs_i = clf_i.predict_proba(xdiag_i)\n",
      "\n",
      "#add the words, rotten and fresh probability in one df\n",
      "dict_array = []\n",
      "for prob_i, word_i in zip(probs_i, words_i):\n",
      "    res_dict = {}\n",
      "    res_dict['word'] = word_i\n",
      "    res_dict['rotten_prob'] = prob_i[0] # predict_proba[0] is rotten\n",
      "    res_dict['freshness_prob'] = prob_i[1] # second one is fresh   \n",
      "    dict_array.append(res_dict)\n",
      "    \n",
      "# create a data frame\n",
      "df_i = pd.DataFrame.from_dict (dict_array)\n",
      "\n",
      "\n",
      "# Print the 10 words that best predict a \"fresh\" review, \n",
      "print \"\"\n",
      "print \"*** 10 words that best predict a 'fresh' review ***\"\n",
      "print \"\"\n",
      "df_i = df_i.sort(['freshness_prob'], ascending=False)\n",
      "print df_i.head(10)\n",
      "\n",
      "\n",
      "# and the 10 words that best predict a \"rotten\" review. \n",
      "print \"\"\n",
      "print \"\"\n",
      "print \"*** 10 words that best predict a 'rotten' review ***\"\n",
      "print \"\"\n",
      "df_i = df_i.sort(['rotten_prob'], ascending=False)\n",
      "print df_i.head(10)\n",
      "print \"\""
     ],
     "language": "python",
     "metadata": {},
     "outputs": [
      {
       "output_type": "stream",
       "stream": "stdout",
       "text": [
        "\n",
        "*** 10 words that best predict a 'fresh' review ***\n",
        "\n",
        "      freshness_prob  rotten_prob         word\n",
        "1140        0.896126     0.103874  masterpiece\n",
        "455         0.892264     0.107736      delight\n",
        "818         0.886856     0.113144     greatest\n",
        "2105        0.884192     0.115808        witty\n",
        "1510        0.881710     0.118290   remarkable\n",
        "1476        0.878740     0.121260         rare\n",
        "1923        0.874229     0.125771     touching\n",
        "1802        0.872329     0.127671       superb\n",
        "961         0.866557     0.133443  intelligent\n",
        "1028        0.866137     0.133863      kubrick\n",
        "\n",
        "\n",
        "*** 10 words that best predict a 'rotten' review ***\n",
        "\n",
        "      freshness_prob  rotten_prob            word\n",
        "189         0.135588     0.864412           bland\n",
        "1034        0.156023     0.843977            lame\n",
        "1393        0.156023     0.843977       pointless\n",
        "1980        0.156697     0.843303   unfortunately\n",
        "494         0.171534     0.828466  disappointment\n",
        "525         0.191752     0.808248            dull\n",
        "1847        0.197746     0.802254         tedious\n",
        "1982        0.197746     0.802254      uninspired\n",
        "1981        0.212639     0.787361         unfunny\n",
        "1908        0.223343     0.776657        tiresome\n",
        "\n"
       ]
      }
     ],
     "prompt_number": 29
    },
    {
     "cell_type": "markdown",
     "metadata": {},
     "source": [
      "**4.2**\n",
      "\n",
      "One of the best sources for inspiration when trying to improve a model is to look at examples where the model performs poorly. \n",
      "\n",
      "Find 5 fresh and rotten reviews where your model performs particularly poorly. Print each review."
     ]
    },
    {
     "cell_type": "code",
     "collapsed": false,
     "input": [
      "#Your code here\n",
      "\n",
      "# let us recreate the best model and generate the probabilities\n",
      "# we will train on a split train but run on the entire set\n",
      "# so that we can use the index to get data from critics df\n",
      "v_2 = CountVectorizer(min_df = 0.001)  \n",
      "X_2, Y_2 = make_xy(critics, v_2)\n",
      "\n",
      "\n",
      "xtrain_2, xtest_2, ytrain_2, ytest_2 = train_test_split(X_2, Y_2) \n",
      "clf_2 = MultinomialNB(alpha=5)\n",
      "train_fit_2 = clf_2.fit(xtrain_2, ytrain_2)\n",
      "probs_2 = clf_2.predict_proba(X_2)\n",
      "\n",
      "dict_array_2 = []\n",
      "for probs_2, freshness in zip(probs_2, Y_2):\n",
      "    res_dict_2 = {}\n",
      "    res_dict_2['freshness_observed'] = freshness\n",
      "    res_dict_2['rotten_prob'] = probs_2[0] # predict_proba[0] is rotten\n",
      "    res_dict_2['freshness_prob'] = probs_2[1] # second one is fresh\n",
      "    dict_array_2.append(res_dict_2)   \n",
      "df2 = pd.DataFrame.from_dict (dict_array_2)\n",
      "\n",
      "\n",
      "### Now let us just pretty print our results for the misclassified fresh and rotten ###\n",
      "\n",
      "# get top 5 mis classified fresh [low freshness probability but critics assigned fresh]\n",
      "top5_misclassified_fresh = df2[df2['freshness_observed'] == 1]\n",
      "top5_misclassified_fresh = top5_misclassified_fresh.sort(['freshness_prob'], ascending=True)\n",
      "print \"*** Fresh movies classified as rotten [summary] ***\"\n",
      "print \"\"\n",
      "print top5_misclassified_fresh.head()\n",
      "print \"\"\n",
      "print \"*** Details\"\n",
      "index_vals = top5_misclassified_fresh.head().index\n",
      "for index_val in index_vals:\n",
      "    #print index_val\n",
      "    review_mis = critics.ix[critics.index[index_val]]\n",
      "    print \"Movie:\", review_mis[2], \"[ Index:\", index_val, \"]\"\n",
      "    print \"Review:\", review_mis[6], \"\\n\"\n",
      "    \n",
      "# get top 5 mis classified fresh [low freshness probability but critics assigned fresh]\n",
      "top5_misclassified_fresh = df2[df2['freshness_observed'] == 1]\n",
      "top5_misclassified_fresh = top5_misclassified_fresh.sort(['freshness_prob'], ascending=True)\n",
      "\n",
      "# get top 5 mis classified as rotten\n",
      "top5_misclassified_rotten = df2[df2['freshness_observed'] == 0]\n",
      "top5_misclassified_rotten = top5_misclassified_rotten.sort(['freshness_prob'], ascending=False)\n",
      "print \"\"\n",
      "print \"*** Rotten movies classified as fresh [summary] ***\"\n",
      "print \"\"\n",
      "print top5_misclassified_rotten.head()\n",
      "print \"\"\n",
      "print \"*** Details\"\n",
      "index_vals = top5_misclassified_rotten.head().index\n",
      "for index_val in index_vals:\n",
      "    #print index_val\n",
      "    review_mis = critics.ix[critics.index[index_val]]\n",
      "    print \"Movie:\", review_mis[2], \"[ Index:\", index_val, \"]\"\n",
      "    print \"Review:\", review_mis[6], \"\\n\"\n",
      "\n",
      "\n",
      "# *** Fresh movies classified as rotten [summary] ***\n",
      "# Movie: Young Frankenstein [ Index: 6161 ]\n",
      "# Review: Some of the gags don't work, but fewer than in any previous Brooks film that I've seen\n",
      "# Movie: Nirgendwo in Afrika [ Index: 7282 ]\n",
      "# Review: There's a lot more to Nowhere in Africa -- too much, actually ... Yet even if \n",
      "# Movie: The Fugitive [ Index: 2540 ]\n",
      "# Review: Though it's a good half hour too long, this overblown 1993 spin-off of \n",
      "# Movie: Charlotte's Web [ Index: 9800 ]\n",
      "# Review: There's too much talent and too strong a story to mess it up. \n",
      "# Movie: Little Big Man [ Index: 14450 ]\n",
      "# Review: Might it be a serious attempt to right some unretrievable wrong \n",
      "        \n",
      "\n",
      "# *** Rotten movies classified as fresh [summary] ***\n",
      "# Movie: Det sjunde inseglet [ Index: 5873 ]\n",
      "# Review: It survives today only as an unusually pure example of a typical 50s art-film \n",
      "# Movie: Grosse Pointe Blank [ Index: 7170 ]\n",
      "# Review: It's a sad day when an actor who's totally, beautifully in touch with his \n",
      "# Movie: Pok\u00e9mon: The First Movie [ Index: 14558 ]\n",
      "# Review: This pacifist spirit of brotherhood echoes the heroics in Princess Mononoke \n",
      "# Movie: Carrie [ Index: 6436 ]\n",
      "# Review: It is sometimes funny in a puzzling kind of way, it is generally overwrought\n",
      "# Movie: The Waterboy [ Index: 10772 ]\n",
      "# Review: The Waterboy is arguably Sandler's most enjoyable motion picture to date\n",
      "    "
     ],
     "language": "python",
     "metadata": {},
     "outputs": [
      {
       "output_type": "stream",
       "stream": "stdout",
       "text": [
        "*** Fresh movies classified as rotten [summary] ***\n",
        "\n",
        "       freshness_observed  freshness_prob  rotten_prob\n",
        "6161                    1        0.000867     0.999133\n",
        "2540                    1        0.001743     0.998257\n",
        "14450                   1        0.003403     0.996597\n",
        "9800                    1        0.004026     0.995974\n",
        "7085                    1        0.004232     0.995768\n",
        "\n",
        "*** Details\n",
        "Movie: Young Frankenstein [ Index: 6161 ]\n",
        "Review: Some of the gags don't work, but fewer than in any previous Brooks film that I've seen, and when the jokes are meant to be bad, they are riotously poor. What more can one ask of Mel Brooks? \n",
        "\n",
        "Movie: The Fugitive [ Index: 2540 ]\n",
        "Review: Though it's a good half hour too long, this overblown 1993 spin-off of the 60s TV show otherwise adds up to a pretty good suspense thriller. \n",
        "\n",
        "Movie: Little Big Man [ Index: 14450 ]\n",
        "Review: Might it be a serious attempt to right some unretrievable wrong via gallows humor which avoids the polemics? This seems to be the course taken; the attempt at least can be respected in theory. \n",
        "\n",
        "Movie: Charlotte's Web [ Index: 9800 ]\n",
        "Review: There's too much talent and too strong a story to mess it up. There was potential for more here, but this incarnation is nothing to be ashamed of, and some of the actors answer the bell. \n",
        "\n",
        "Movie: Smilla's Sense of Snow [ Index: 7085 ]\n",
        "Review: This tough-to-peg whodunit keeps you going for two hours, despite a few James Bond-ish (or Jane Bond-ish) turns that play less preposterously than you might assume were they to be divulged. \n",
        "\n",
        "\n",
        "*** Rotten movies classified as fresh [summary] ***\n",
        "\n",
        "       freshness_observed  freshness_prob  rotten_prob\n",
        "5873                    0        0.996424     0.003576\n",
        "10772                   0        0.993474     0.006526\n",
        "13668                   0        0.991879     0.008121\n",
        "7170                    0        0.991122     0.008878\n",
        "7124                    0        0.989815     0.010185\n",
        "\n",
        "*** Details\n",
        "Movie: Det sjunde inseglet [ Index: 5873 ]\n",
        "Review: It survives today only as an unusually pure example of a typical 50s art-film strategy: the attempt to make the most modern and most popular of art forms acceptable to the intelligentsia by forcing it into an arcane, antique mold. \n",
        "\n",
        "Movie: The Waterboy [ Index: 10772 ]\n",
        "Review: The Waterboy is arguably Sandler's most enjoyable motion picture to date, but it's still far from a masterpiece. \n",
        "\n",
        "Movie: Three Kings [ Index: 13668 ]\n",
        "Review: Though Russell is most impressive for his writing and his immensely witty direction of actors, Three Kings begins by placing its emphasis firmly elsewhere. \n",
        "\n",
        "Movie: Grosse Pointe Blank [ Index: 7170 ]\n",
        "Review: It's a sad day when an actor who's totally, beautifully in touch with his dark side finds himself stuck in a movie that's scared of its own shadow. \n",
        "\n",
        "Movie: Selena [ Index: 7124 ]\n",
        "Review: Nava, who started his feature-film career with El Norte, is a good director who invariably finds a strong rapport with his actors. He's not much of a writer, though, and he should think twice about creating dialogue for his future projects. \n",
        "\n"
       ]
      }
     ],
     "prompt_number": 30
    },
    {
     "cell_type": "markdown",
     "metadata": {},
     "source": [
      "**4.3** What do you notice about these mis-predictions? Naive Bayes classifiers assume that every word affects the probability independently of other words. In what way is this a bad assumption? In your answer, report your classifier's Freshness probability for the review \"This movie is not remarkable, touching, or superb in any way\"."
     ]
    },
    {
     "cell_type": "code",
     "collapsed": false,
     "input": [
      "#create my own review for \"This movie is not remarkable, touching, or superb in any way\"\n",
      "my_review = {}\n",
      "my_review['rtid'] = 99999\n",
      "my_review['imdb'] = 88888\n",
      "my_review['critic'] = 'Nurul Zaman'\n",
      "my_review['title'] = 'Bayesian vs. Frequentist - The Death Match'\n",
      "my_review['quote'] = 'This movie is not remarkable, touching, or superb in any way'\n",
      "my_review['fresh'] = 'fresh'\n",
      "my_review['publication'] = 'Data Science'\n",
      "my_review['review_date'] = '2008-08-31'\n",
      "\n",
      "# make a copy of critics and add my review at the end\n",
      "my_critics = critics.copy()\n",
      "my_critics = my_critics.append(pd.Series(my_review), ignore_index=True);\n",
      "my_index = my_critics[my_critics['rtid'] == 99999].index\n",
      "\n",
      "#use the previously fitted classifier to get the probabilities\n",
      "my_X, my_Y = make_xy(my_critics, v_2) # vecotorizer from previous\n",
      "my_probs = clf_2.predict_proba(my_X) # classifier form previous\n",
      "\n",
      "my_probs = my_probs[-1]\n",
      "\n",
      "my_rotten_prob = my_probs[0] #0.01645104\n",
      "my_freshness_prob = my_probs[1] #0.98354896\n",
      "\n",
      "#print my_probs #[ 0.01645104  0.98354896]\n",
      "\n",
      "print \"\"\n",
      "print \"Freshness probability=\", my_probs[1]\n",
      "print \"\"\n"
     ],
     "language": "python",
     "metadata": {},
     "outputs": [
      {
       "output_type": "stream",
       "stream": "stdout",
       "text": [
        "\n",
        "Freshness probability= 0.987142365935\n",
        "\n"
       ]
      }
     ],
     "prompt_number": 31
    },
    {
     "cell_type": "markdown",
     "metadata": {},
     "source": [
      "***\n",
      "*Your answer here*\n",
      "##Answer\n",
      "*Most of the mis-predictions seem to be due to the nature of the naive bayes classifier (every word affects the probability independently of other words). This really does not hold true for some of the reviews. The reviews are probably lamenting what the movie could have been (great, magnificant, charming) and how it really turned out to be (dreary, uninspiring..). So the naive classifier would assign probabilities based on wrong interpretation and mis classify the review. There are also times when the critics are making comparative reasonings which the algorithm cannot comprehend. Case in point, from movie Grosse Pointe Blank:*\n",
      "\n",
      "*\"It's a sad day when an actor who's totally, beautifully in touch with his dark side finds himself stuck in a movie that's scared of its own shadow.\"*\n",
      "\n",
      "###Rating the sample reveiw\n",
      "**Sample Review:** This movie is not remarkable, touching, or superb in any way.\n",
      "\n",
      "**Reultant Freshness Rating:** 0.98354896\n",
      "\n",
      "**Comments:** *This was to be expected. We are using three superlatives here (remarkable, touching, or superb). Naive Bayes does not know that all these superlatives are negated by a not in the front.*\n",
      "\n",
      "***"
     ]
    },
    {
     "cell_type": "markdown",
     "metadata": {},
     "source": [
      "**4.4**\n",
      "If this was your final project, what are 3 things you would try in order to build a more effective review classifier? What other exploratory or explanatory visualizations do you think might be helpful?"
     ]
    },
    {
     "cell_type": "markdown",
     "metadata": {},
     "source": [
      "***\n",
      "*Your answer here*\n",
      "##Answer\n",
      "\n",
      "###Creating a more effective review classifier (top 3)\n",
      "*I think we can build a better review classifier based on critics, their history, the movie history, the actors, directors and sometimes the producer ratings. Based on the information that we have for this assignment (movies and rotten tomatoes ratings), we dont have the historical information about actors and directors. So the first three things list whatever we can do with what we have. The extra ones are if we have access to more information.*\n",
      "\n",
      "**Figuring Review Context:** \n",
      "*The first one is obvious and builds upon the last question/response. There should be a better way to figure out the context of the review. Is the critic lamenting on what could have been ? Is the critic comparing the movie against the actors previous endaevors ? Is the critic being sarcastic ? Obviously, this type of language processing will not be very easy but in an ideal scenario we might be able to create an engine which better figures out the critic sentiments.*\n",
      "\n",
      "**Analyzing Detailed Reviews**\n",
      "*We did the ratings based on a summarized version of the reviews. We did have the links available and can probably download and analyze the complete reviews (just like we downloaded detailed elections in the last assignment). The context issues that are mis-classifying the reviews should be less prevalent if we look at the whole review. It is a negative review we would probably have more negative words and vice versa.*\n",
      "\n",
      "**Accounting for Critic History / Preferences:** \n",
      "*Some critics are harsher than others. I remember Gene Siskel being more ambivalent that Roger Ebert (or was it the other way around ?). If you have watched them for a long time, you could probably predict which one of them will go thumbs up or down. That might also be the case that some critics like some type of movies than the other. For example, I cannot watch Horror flicks and almost always give it a thumbs down. So, is probably also the case with the critics. They might try to be fair but their bias should allow us to weight their opinions in one direction or other.*\n",
      "\n",
      "\n",
      "\n",
      "###Creating a more effective review classifier (Additional Thoughts)\n",
      "\n",
      "\n",
      "**Assigning Weight for Actor:**\n",
      "*Some actors can pretty much guarantee good reviews. I dont remember Tom Hanks getting bad reveiws. Similarly, Maryl Streep almost always has rave reviews.*\n",
      "\n",
      "**Assigning Weight for Director/Producer:**\n",
      "*Directors also contribute massively to a movie. Case in point, Quentin Terantino and Steven Spielberg. They seem to be pretty choosy and their movies almost always gets good reviews. Similarly George Lucas and Steven Spielberg names pretty much guarantee a good movie (although Jar-Jar had prety bad reviews for Star Wars).*\n",
      "\n",
      "**Movie Similarity:**\n",
      "*Movies can sometimes be similar to each other, influenced by others and in some cases they are re-makes of earlier versions. Some kind of -ve or +ve weights can be alloted to these movies. For example, in case of re-makes, it is seldom that they see the same popularity as the original one or receive better reviews. In extreme cases, like Psycho, the movies are just a color adaptation of the black and white so the reviews can be quite mercliless.* \n",
      "\n",
      "\n",
      "###Exploratory or Explanatory Visualizations\n",
      "**Matrix Plot for Movie Genre:**\n",
      "*It would be intersting to see how different genres have fared in different decades. This can be drawn much like the matrix plot shown in the class for unisex names in US history. This would also have an additional benefit of seeing if some genres are consistently graded better than the others. For example, are horror movies always rated lower than dramas.*\n",
      "\n",
      "**Bump Charts / Slope Graphs:**\n",
      "*Movies have multiple quantative data associated with it. Cost to make the movie, prediction based on limited release, prediction on first weekend, etc. Is it possible that there is a relationship between big movies and their ratings ? Is it possible that expectations are so sky high for a 200 million dollar movie that anything other than spectacular drags down the movie rating ? We can see that using a bump chart - for example cost of movie vs. rating. \n",
      "\n",
      "*An even more fun view would be the Filtering and Brushing where we can interactively see the effect of these different variables on the ratings.*\n",
      "\n",
      "****"
     ]
    },
    {
     "cell_type": "markdown",
     "metadata": {},
     "source": [
      "### How to Submit\n",
      "\n",
      "Restart and run your notebook one last time, to make sure the output from each cell is up to date. To submit your homework, create a folder named lastname_firstinitial_hw3 and place your solutions in the folder. Double check that the file is still called HW3.ipynb, and that it contains your code. Please do **not** include the critics.csv data file, if you created one. Compress the folder (please use .zip compression) and submit to the CS109 dropbox in the appropriate folder. If we cannot access your work because these directions are not followed correctly, we will not grade your work!"
     ]
    },
    {
     "cell_type": "markdown",
     "metadata": {},
     "source": [
      "---\n",
      "*css tweaks in this cell*\n",
      "<style>\n",
      "div.text_cell_render {\n",
      "    line-height: 150%;\n",
      "    font-size: 110%;\n",
      "    width: 800px;\n",
      "    margin-left:50px;\n",
      "    margin-right:auto;\n",
      "    }\n",
      "</style>"
     ]
    }
   ],
   "metadata": {}
  }
 ]
}